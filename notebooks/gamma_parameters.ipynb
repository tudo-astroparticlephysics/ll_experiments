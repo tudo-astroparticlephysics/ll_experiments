{
 "cells": [
  {
   "cell_type": "code",
   "execution_count": 1,
   "metadata": {
    "ExecuteTime": {
     "end_time": "2018-10-10T17:44:09.268024Z",
     "start_time": "2018-10-10T17:44:09.253213Z"
    }
   },
   "outputs": [],
   "source": [
    "import sympy\n",
    "from sympy import Symbol, factorial, exp, init_printing, diff, solve, log, simplify, limit, expand, sqrt, summation, oo, Matrix, det\n",
    "init_printing()\n",
    "import matplotlib.pyplot as plt\n",
    "import numpy as np\n",
    "%matplotlib inline"
   ]
  },
  {
   "cell_type": "markdown",
   "metadata": {},
   "source": [
    "## Simple poisson distribution\n",
    "\n",
    "Lets start by calculating it for a poisson distribution. See also https://en.wikipedia.org/wiki/Jeffreys_prior"
   ]
  },
  {
   "cell_type": "code",
   "execution_count": 5,
   "metadata": {},
   "outputs": [
    {
     "data": {
      "image/png": "[encoded data removed]",
      "text/latex": [
       "$$\\left [ \\right ]$$"
      ],
      "text/plain": [
       "[]"
      ]
     },
     "execution_count": 5,
     "metadata": {},
     "output_type": "execute_result"
    }
   ],
   "source": [
    "alpha = Symbol('alpha', positive=True)\n",
    "beta = Symbol('beta', positive=True)\n",
    "N = Symbol('N', positive=True)\n",
    "V = Symbol('V', positive=True)\n",
    "\n",
    "N = (alpha - 1) / beta\n",
    "V = alpha / beta**2\n",
    "V, N\n",
    "\n",
    "solve((N, V), alpha, beta)"
   ]
  },
  {
   "cell_type": "code",
   "execution_count": 213,
   "metadata": {
    "ExecuteTime": {
     "end_time": "2018-10-10T14:34:44.304696Z",
     "start_time": "2018-10-10T14:34:30.725462Z"
    }
   },
   "outputs": [
    {
     "data": {
      "image/png": "[encoded data removed]",
      "text/latex": [
       "$$\\frac{- \\alpha \\mu_{s} + \\alpha n_{off} + \\alpha n_{on} - \\mu_{s} - \\sqrt{\\alpha^{2} \\mu_{s}^{2} + 2 \\alpha^{2} \\mu_{s} n_{off} - 2 \\alpha^{2} \\mu_{s} n_{on} + \\alpha^{2} n_{off}^{2} + 2 \\alpha^{2} n_{off} n_{on} + \\alpha^{2} n_{on}^{2} + 2 \\alpha \\mu_{s}^{2} + 2 \\alpha \\mu_{s} n_{off} - 2 \\alpha \\mu_{s} n_{on} + \\mu_{s}^{2}}}{2 \\alpha \\left(\\alpha + 1\\right)}$$"
      ],
      "text/plain": [
       "                                  ____________________________________________\n",
       "                                 ╱  2   2      2               2           2  \n",
       "-α⋅μₛ + α⋅n_off + α⋅nₒₙ - μₛ - ╲╱  α ⋅μₛ  + 2⋅α ⋅μₛ⋅n_off - 2⋅α ⋅μₛ⋅nₒₙ + α ⋅n\n",
       "──────────────────────────────────────────────────────────────────────────────\n",
       "                                                                        2⋅α⋅(α\n",
       "\n",
       "_____________________________________________________________________________\n",
       "    2      2              2    2         2                                 2 \n",
       "_off  + 2⋅α ⋅n_off⋅nₒₙ + α ⋅nₒₙ  + 2⋅α⋅μₛ  + 2⋅α⋅μₛ⋅n_off - 2⋅α⋅μₛ⋅nₒₙ + μₛ  \n",
       "─────────────────────────────────────────────────────────────────────────────\n",
       " + 1)                                                                        "
      ]
     },
     "execution_count": 213,
     "metadata": {},
     "output_type": "execute_result"
    }
   ],
   "source": [
    "mu_b_of_s, _ = solve(diff(log(likelihood), mu_b), mu_b)\n",
    "mu_b_of_s"
   ]
  },
  {
   "cell_type": "code",
   "execution_count": null,
   "metadata": {
    "collapsed": true
   },
   "outputs": [],
   "source": []
  }
 ],
 "metadata": {
  "kernelspec": {
   "display_name": "Python 3",
   "language": "python",
   "name": "python3"
  },
  "language_info": {
   "codemirror_mode": {
    "name": "ipython",
    "version": 3
   },
   "file_extension": ".py",
   "mimetype": "text/x-python",
   "name": "python",
   "nbconvert_exporter": "python",
   "pygments_lexer": "ipython3",
   "version": "3.7.2"
  }
 },
 "nbformat": 4,
 "nbformat_minor": 2
}
