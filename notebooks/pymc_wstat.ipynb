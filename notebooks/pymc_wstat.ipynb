{
 "cells": [
  {
   "cell_type": "code",
   "execution_count": 1,
   "metadata": {},
   "outputs": [],
   "source": [
    "from scipy.integrate import quad, trapz, fixed_quad\n",
    "import theano\n",
    "import theano.tensor as T\n",
    "from theano.tests.unittest_tools import verify_grad\n",
    "from theano.compile.ops import as_op\n",
    "\n",
    "import numpy as np\n",
    "import pymc3 as pm\n",
    "\n",
    "import matplotlib.pyplot as plt\n",
    "\n",
    "import astropy.units as u\n",
    "\n",
    "from tqdm import tqdm\n",
    "\n",
    "from gammapy.spectrum import CountsPredictor, CountsSpectrum\n",
    "\n",
    "from utils import load_spectrum_observations, plot_spectra, Log10Parabola, integrate_spectrum, wstat_profile\n",
    "from forward_fold_model import model_probability, ln_profile_likelihood\n",
    "\n",
    "%matplotlib inline"
   ]
  },
  {
   "cell_type": "code",
   "execution_count": 2,
   "metadata": {
    "scrolled": false
   },
   "outputs": [],
   "source": [
    "# print(theano.config)\n",
    "class Integrate(theano.Op):\n",
    "    def __init__(self, expr, var, lower, upper, *inputs):\n",
    "        super().__init__()\n",
    "        self._expr = expr\n",
    "        self._var = var\n",
    "        self._extra_vars = inputs\n",
    "        self.lower = lower\n",
    "        self.upper = upper\n",
    "        self._func = theano.function(\n",
    "            [var] + list(self._extra_vars),\n",
    "            self._expr,\n",
    "            on_unused_input='ignore'\n",
    "        )\n",
    "    \n",
    "    def make_node(self, *inputs):\n",
    "        assert len(self._extra_vars)  == len(inputs)\n",
    "        return theano.Apply(self, list(inputs), [T.dscalar().type()])\n",
    "    \n",
    "    def perform(self, node, inputs, out):\n",
    "        x = np.linspace(self.lower, self.upper, num=3)\n",
    "        y = np.array([self._func(i , *inputs) for i in x])\n",
    "        val = trapz(y, x)\n",
    "        out[0][0] = np.array(val)\n",
    "        \n",
    "    def grad(self, inputs, grads):\n",
    "        out, = grads\n",
    "        grads = T.grad(self._expr, self._extra_vars)\n",
    "        dargs = []\n",
    "        for grad in grads:\n",
    "            integrate = Integrate(grad, self._var, self.lower, self.upper, *self._extra_vars)\n",
    "            darg = out * integrate(*inputs)\n",
    "            dargs.append(darg)\n",
    "            \n",
    "        return dargs"
   ]
  },
  {
   "cell_type": "code",
   "execution_count": 3,
   "metadata": {},
   "outputs": [],
   "source": [
    "def forward_fold_log_parabola_symbolic_no_units(amplitude, alpha, beta, e_true_lo, e_true_hi, selected_bin_ids, aeff, livetime, edisp, observation):\n",
    "    amplitude *= 1e-11\n",
    "    \n",
    "    energy = T.dscalar('energy')\n",
    "    amplitude_ = T.dscalar('amplitude_')\n",
    "    alpha_ = T.dscalar('alpha_')\n",
    "    beta_ = T.dscalar('beta_')\n",
    "\n",
    "    func = amplitude_ * energy **(-alpha_ - beta_ * T.log10(energy))\n",
    "    \n",
    "    counts = []\n",
    "    for a, b in zip(e_true_lo, e_true_hi):\n",
    "        c = Integrate(func, energy, a, b, amplitude_, alpha_, beta_)(amplitude, alpha, beta)\n",
    "        counts.append(c)\n",
    "\n",
    "    counts = T.stack(counts)\n",
    "    aeff = aeff\n",
    "    \n",
    "\n",
    "    counts *= aeff\n",
    "    counts *= livetime\n",
    "    edisp = edisp\n",
    "    \n",
    "    idx = selected_bin_ids\n",
    "    return T.dot(counts, edisp)[idx[0]:idx[1]]\n",
    "\n",
    "def forward_fold_log_parabola_symbolic(amplitude, alpha, beta, observations, fit_range=None):\n",
    "    \n",
    "    amplitude *= 1e-11\n",
    "    obs_bins = observations[0].on_vector.energy.bins.to_value(u.TeV)\n",
    "    predicted_signal_per_observation = []\n",
    "    for observation in observations:\n",
    "        aeff_bins = observation.aeff.energy\n",
    "        e_reco_bins = observation.edisp.e_reco\n",
    "        e_true_bins = observation.edisp.e_true\n",
    "\n",
    "        lower =  e_true_bins.lo.to_value(u.TeV)\n",
    "        upper = e_true_bins.hi.to_value(u.TeV)\n",
    "\n",
    "        energy = T.dscalar('energy')\n",
    "        amplitude_ = T.dscalar('amplitude_')\n",
    "        alpha_ = T.dscalar('alpha_')\n",
    "        beta_ = T.dscalar('beta_')\n",
    "\n",
    "        func = amplitude_ * energy **(-alpha_ - beta_ * T.log10(energy))\n",
    "\n",
    "        counts = []\n",
    "        for a, b in zip(lower, upper):\n",
    "            c = Integrate(func, energy, a, b, amplitude_, alpha_, beta_)(amplitude, alpha, beta)\n",
    "            counts.append(c)\n",
    "\n",
    "        counts = T.stack(counts)\n",
    "        aeff = observation.aeff.data.data.to_value(u.cm**2).astype(np.float32)\n",
    "        aeff = aeff\n",
    "\n",
    "\n",
    "        counts *= aeff\n",
    "        counts *= observation.livetime.to_value(u.s)\n",
    "        edisp = observation.edisp.pdf_matrix\n",
    "        edisp = edisp\n",
    "\n",
    "        predicted_signal_per_observation.append(T.dot(counts, edisp))\n",
    "\n",
    "    predicted_counts = T.sum(predicted_signal_per_observation, axis=0)\n",
    "    if fit_range is not None:\n",
    "        energy_bins = observations[0].on_vector.energy.bins\n",
    "        idx = np.searchsorted(energy_bins.to_value(u.TeV), fit_range.to_value(u.TeV))\n",
    "        predicted_counts = predicted_counts[idx[0]:idx[1]]\n",
    "\n",
    "    return predicted_counts\n"
   ]
  },
  {
   "cell_type": "code",
   "execution_count": 4,
   "metadata": {},
   "outputs": [],
   "source": [
    "def apply_range(*arr, fit_range, bins):\n",
    "    idx = np.searchsorted(bins.to(u.TeV).value, fit_range.to(u.TeV).value )\n",
    "    return [a[idx[0]:idx[1]] for a in arr]"
   ]
  },
  {
   "cell_type": "code",
   "execution_count": 5,
   "metadata": {},
   "outputs": [],
   "source": [
    "obs_list, fit_range = load_spectrum_observations('fact')\n",
    "observations = obs_list\n",
    "energy_bins = observations[0].on_vector.energy.bins"
   ]
  },
  {
   "cell_type": "code",
   "execution_count": 6,
   "metadata": {},
   "outputs": [
    {
     "name": "stdout",
     "output_type": "stream",
     "text": [
      "[ 0.4 30. ] TeV\n"
     ]
    },
    {
     "data": {
      "text/plain": [
       "(array([ 14.43495112,  27.0465557 ,  47.84444151,  77.51652647,\n",
       "        113.07310067, 148.02603138, 175.69778694, 192.17195833,\n",
       "        196.82898106, 191.10612479, 177.20977073, 158.13731217,\n",
       "        137.41158039, 117.66932917,  99.97265699,  84.15327589,\n",
       "         70.03711504,  57.52210219,  46.85345721,  37.94002902,\n",
       "         30.5203661 ,  24.22927814,  18.91720323,  14.50065284,\n",
       "         10.90732094,   8.07117832,   5.85499537,   4.1174762 ,\n",
       "          2.70923858,   1.57945823]), (30,), (20,))"
      ]
     },
     "execution_count": 6,
     "metadata": {},
     "output_type": "execute_result"
    }
   ],
   "source": [
    "amplitude = T.dscalar('amplitude')\n",
    "alpha = T.dscalar('alpha')\n",
    "beta = T.dscalar('beta')\n",
    "\n",
    "print(fit_range)\n",
    "\n",
    "cf_fast = forward_fold_log_parabola_symbolic(amplitude, alpha, beta, observations, fit_range=fit_range)\n",
    "counts_symbolic = cf_fast.eval({amplitude: 4.0, alpha: 2.0, beta: 0.5})\n",
    "counts_symbolic, counts_symbolic.shape, apply_range(counts_symbolic, bins=energy_bins, fit_range=fit_range)[0].shape"
   ]
  },
  {
   "cell_type": "code",
   "execution_count": 7,
   "metadata": {},
   "outputs": [],
   "source": [
    "def calc_mu_b(mu_s, on_data, off_data, exposure_ratio):\n",
    "    alpha = exposure_ratio\n",
    "    c = alpha * (on_data + off_data) - (alpha + 1)*mu_s\n",
    "    d = pm.math.sqrt(c**2 + 4 * (alpha + 1)*alpha*off_data*mu_s)\n",
    "    mu_b = (c + d) / (2*alpha*(alpha + 1))\n",
    "    return mu_b"
   ]
  },
  {
   "cell_type": "code",
   "execution_count": 8,
   "metadata": {},
   "outputs": [],
   "source": [
    "def get_observed_counts(observations, fit_range=None):\n",
    "    on_data = []\n",
    "    off_data = []\n",
    "    \n",
    "    for observation in observations:\n",
    "        on_data.append(observation.on_vector.data.data.value)\n",
    "        off_data.append(observation.off_vector.data.data.value)\n",
    "    on_data = np.sum(on_data, axis=0)\n",
    "    off_data = np.sum(off_data, axis=0)\n",
    "    if fit_range is not None:\n",
    "        energy_bins = observations[0].on_vector.energy.bins\n",
    "        on_data, off_data = apply_range(on_data, off_data, fit_range=fit_range, bins=energy_bins)\n",
    "    \n",
    "    return on_data, off_data"
   ]
  },
  {
   "cell_type": "code",
   "execution_count": 9,
   "metadata": {},
   "outputs": [
    {
     "name": "stdout",
     "output_type": "stream",
     "text": [
      "(30,) (30,) 0.11111111111111117\n",
      "[ 0.4 30. ] TeV\n"
     ]
    }
   ],
   "source": [
    "on_data, off_data = get_observed_counts(observations, fit_range=fit_range)\n",
    "# on_data, off_data = apply_range(on_data, off_data, fit_range=fit_range, bins=energy_bins)\n",
    "\n",
    "exposure_ratio = observations[0].alpha[0]\n",
    "print(on_data.shape, off_data.shape, exposure_ratio )\n",
    "livetime = observations[0].livetime.to_value(u.s)\n",
    "\n",
    "# edisp = observation.edisp.pdf_matrix\n",
    "print(fit_range)\n",
    "model = pm.Model(theano_config={'compute_test_value': 'ignore'})\n",
    "with model:\n",
    "\n",
    "    amplitude = pm.TruncatedNormal('amplitude', mu=4, sd=0.5, lower=0.01, testval=4)\n",
    "    alpha = pm.TruncatedNormal('alpha', mu=2.5, sd=0.5, lower=0.01, testval=2.5)\n",
    "    beta = pm.TruncatedNormal('beta', mu=0.5, sd=0.5, lower=0.01, testval=0.5)\n",
    "    \n",
    "#     amplitude = pm.HalfFlat('amplitude',testval=4)\n",
    "#     alpha = pm.HalfFlat('alpha', testval=2.5)\n",
    "#     beta = pm.HalfFlat('beta', testval=0.5)\n",
    "    \n",
    "#     mu_s = forward_fold_log_parabola_symbolic_no_units(amplitude, alpha, beta, e_true_lo, e_true_hi, idx, aeff, livetime, edisp,  observation)\n",
    "    mu_s = forward_fold_log_parabola_symbolic(amplitude, alpha, beta, observations, fit_range=fit_range)\n",
    "#     pm.Potential('ll', wstat_model_symbolic(mu_s, observation, fit_range=fit_range))\n",
    "#     mu_b = pm.HalfFlat('mu_b', shape=len(off_data))\n",
    "#     mu_b = pm.TruncatedNormal('mu_b', mu=off_data, sd=5, shape=len(off_data), lower=0)\n",
    "    mu_b  = pm.Deterministic('mu_b', calc_mu_b(mu_s, on_data, off_data, exposure_ratio), )\n",
    "    b = pm.Poisson('background', mu=mu_b, observed=off_data, shape=len(off_data))    \n",
    "    s = pm.Poisson('signal', mu=mu_s + exposure_ratio * mu_b, observed=on_data)"
   ]
  },
  {
   "cell_type": "code",
   "execution_count": 10,
   "metadata": {},
   "outputs": [
    {
     "name": "stdout",
     "output_type": "stream",
     "text": [
      "amplitude_lowerbound__ 1.1579998782570455\n",
      "alpha_lowerbound__ 0.6864916757531656\n",
      "beta_lowerbound__ -0.7605610100048488\n",
      "background -89.10181511046177\n",
      "signal -218.17912787232274\n"
     ]
    }
   ],
   "source": [
    "for RV in model.basic_RVs:\n",
    "    print(RV.name, RV.logp(model.test_point))"
   ]
  },
  {
   "cell_type": "code",
   "execution_count": 11,
   "metadata": {},
   "outputs": [
    {
     "name": "stderr",
     "output_type": "stream",
     "text": [
      "625it [00:03, 186.13it/s]\n"
     ]
    },
    {
     "data": {
      "text/plain": [
       "<matplotlib.colorbar.Colorbar at 0x12f2260b8>"
      ]
     },
     "execution_count": 11,
     "metadata": {},
     "output_type": "execute_result"
    },
    {
     "data": {
      "image/png": "[encoded data removed]",
      "text/plain": [
       "<Figure size 432x396 with 2 Axes>"
      ]
     },
     "metadata": {
      "needs_background": "light"
     },
     "output_type": "display_data"
    }
   ],
   "source": [
    "N = 25\n",
    "betas = np.linspace(0, 3, N)\n",
    "alphas = np.linspace(1.1, 4.0, N)\n",
    "f = model.logp\n",
    "zs = []\n",
    "a, b = np.meshgrid(alphas, betas)\n",
    "for al, be in tqdm(zip(a.ravel(), b.ravel())):\n",
    "        \n",
    "    p = f(amplitude_lowerbound__ = np.log(4), alpha_lowerbound__ = np.log(al), beta_lowerbound__= np.log(be))\n",
    "#     print(p)\n",
    "    zs.append(p)\n",
    "\n",
    "zs = np.array(zs)\n",
    "\n",
    "fig, ax1 = plt.subplots(1, 1, figsize=(6, 5.5))\n",
    "cf = ax1.contourf(a, b, zs.reshape(len(a), -1),  levels=124)\n",
    "ax1.set_xlabel('alpha')\n",
    "ax1.set_ylabel('beta')\n",
    "plt.colorbar(cf, ax=ax1)"
   ]
  },
  {
   "cell_type": "code",
   "execution_count": 13,
   "metadata": {
    "scrolled": false
   },
   "outputs": [
    {
     "name": "stderr",
     "output_type": "stream",
     "text": [
      "Auto-assigning NUTS sampler...\n",
      "Initializing NUTS using jitter+adapt_diag...\n",
      "Multiprocess sampling (6 chains in 6 jobs)\n",
      "NUTS: [beta, alpha, amplitude]\n",
      "Sampling 6 chains: 100%|██████████| 7200/7200 [05:33<00:00,  5.72draws/s]\n",
      "The acceptance probability does not match the target. It is 0.8825558214952327, but should be close to 0.8. Try to increase the number of tuning steps.\n",
      "The acceptance probability does not match the target. It is 0.9127566229495332, but should be close to 0.8. Try to increase the number of tuning steps.\n",
      "The acceptance probability does not match the target. It is 0.8813131441217611, but should be close to 0.8. Try to increase the number of tuning steps.\n"
     ]
    }
   ],
   "source": [
    "with model:\n",
    "    trace = pm.sample(600, cores=6, tune=600, init='auto') # advi+adapt_diag"
   ]
  },
  {
   "cell_type": "code",
   "execution_count": null,
   "metadata": {},
   "outputs": [],
   "source": [
    "pm.traceplot(trace)"
   ]
  },
  {
   "cell_type": "code",
   "execution_count": null,
   "metadata": {},
   "outputs": [],
   "source": []
  }
 ],
 "metadata": {
  "kernelspec": {
   "display_name": "Python 3",
   "language": "python",
   "name": "python3"
  },
  "language_info": {
   "codemirror_mode": {
    "name": "ipython",
    "version": 3
   },
   "file_extension": ".py",
   "mimetype": "text/x-python",
   "name": "python",
   "nbconvert_exporter": "python",
   "pygments_lexer": "ipython3",
   "version": "3.7.2"
  }
 },
 "nbformat": 4,
 "nbformat_minor": 2
}
