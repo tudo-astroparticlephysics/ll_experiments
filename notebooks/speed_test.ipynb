{
 "cells": [
  {
   "cell_type": "code",
   "execution_count": 102,
   "metadata": {},
   "outputs": [],
   "source": [
    "from scipy.integrate import quad, trapz, fixed_quad\n",
    "import theano\n",
    "import theano.tensor as T\n",
    "from theano.tests.unittest_tools import verify_grad\n",
    "from theano.compile.ops import as_op\n",
    "\n",
    "import numpy as np\n",
    "import pymc3 as pm\n",
    "\n",
    "import matplotlib.pyplot as plt\n",
    "\n",
    "import astropy.units as u\n",
    "from astropy.coordinates import SkyCoord\n",
    "\n",
    "from tqdm import tqdm\n",
    "\n",
    "from gammapy.spectrum import CountsPredictor, CountsSpectrum\n",
    "from gammapy.data import DataStore\n",
    "from gammapy.maps import Map\n",
    "from gammapy.background import ReflectedRegionsBackgroundEstimator\n",
    "from gammapy.spectrum import SpectrumObservationList, SpectrumExtraction\n",
    "\n",
    "from regions import CircleSkyRegion\n",
    "\n",
    "from utils import load_spectrum_observations, plot_spectra, Log10Parabola, integrate_spectrum, wstat_profile\n",
    "from forward_fold_model import model_probability, ln_profile_likelihood\n",
    "\n",
    "%matplotlib inline"
   ]
  },
  {
   "cell_type": "code",
   "execution_count": 103,
   "metadata": {
    "scrolled": false
   },
   "outputs": [],
   "source": [
    "class Integrate(theano.Op):\n",
    "    def __init__(self, expr, var, lower, upper, *inputs):\n",
    "        super().__init__()\n",
    "        self._expr = expr\n",
    "        self._var = var\n",
    "        self._extra_vars = inputs\n",
    "        self.lower = lower\n",
    "        self.upper = upper\n",
    "        self._func = theano.function(\n",
    "            [var] + list(self._extra_vars),\n",
    "            self._expr,\n",
    "            on_unused_input='ignore'\n",
    "        )\n",
    "    \n",
    "    def make_node(self, *inputs):\n",
    "        assert len(self._extra_vars)  == len(inputs)\n",
    "        return theano.Apply(self, list(inputs), [T.dscalar().type()])\n",
    "    \n",
    "    def perform(self, node, inputs, out):\n",
    "        x = np.linspace(self.lower, self.upper, num=3)\n",
    "        y = np.array([self._func(i , *inputs) for i in x])\n",
    "        val = trapz(y, x)\n",
    "#         print(val)\n",
    "#         val = quad(self._func, self.lower, self.upper, args=tuple(inputs))[0]\n",
    "        out[0][0] = np.array(val)\n",
    "        \n",
    "    def grad(self, inputs, grads):\n",
    "        out, = grads\n",
    "        grads = T.grad(self._expr, self._extra_vars)\n",
    "        dargs = []\n",
    "        for grad in grads:\n",
    "            integrate = Integrate(grad, self._var, self.lower, self.upper, *self._extra_vars)\n",
    "            darg = out * integrate(*inputs)\n",
    "            dargs.append(darg)\n",
    "            \n",
    "        return dargs"
   ]
  },
  {
   "cell_type": "code",
   "execution_count": 104,
   "metadata": {},
   "outputs": [],
   "source": [
    "def apply_range(*arr, fit_range, bins):\n",
    "    idx = np.searchsorted(bins.to_value(u.TeV), fit_range.to_value(u.TeV))\n",
    "    return [a[idx[0]:idx[1]] for a in arr]"
   ]
  },
  {
   "cell_type": "code",
   "execution_count": 105,
   "metadata": {},
   "outputs": [
    {
     "name": "stdout",
     "output_type": "stream",
     "text": [
      "Estimating Background\n",
      "Extracting Count Spectra\n",
      "15\n"
     ]
    },
    {
     "data": {
      "text/latex": [
       "$[0.6,~20] \\; \\mathrm{TeV}$"
      ],
      "text/plain": [
       "<Quantity [ 0.6, 20. ] TeV>"
      ]
     },
     "execution_count": 105,
     "metadata": {},
     "output_type": "execute_result"
    }
   ],
   "source": [
    "telescope = 'hess'\n",
    "\n",
    "crab_position = SkyCoord(ra='83d37m59.0988s', dec='22d00m52.2s')\n",
    "exclusion_map = Map.read(f\"./data/exclusion_mask.fits.gz\")\n",
    "\n",
    "energy_range = {\n",
    "    'fact': [0.55, 17] * u.TeV,\n",
    "    'magic': [0.04, 18] * u.TeV,\n",
    "    'veritas': [0.11, 20] * u.TeV,\n",
    "    'hess': [0.6, 20] * u.TeV,\n",
    "}\n",
    "\n",
    "on_radius = {\n",
    "    'fact': 0.17 * u.deg,\n",
    "    'magic': 0.142 * u.deg,\n",
    "    'veritas': 0.10 * u.deg,\n",
    "    'hess': 0.11 * u.deg,\n",
    "}\n",
    "\n",
    "ds = DataStore.from_dir(f'./data/{telescope}/')\n",
    "observations = ds.obs_list(ds.hdu_table['OBS_ID'].data)\n",
    "\n",
    "fit_range = energy_range[telescope]\n",
    "\n",
    "e_true_bins = np.logspace(*np.log10(fit_range.value), 10 + 1) * u.TeV\n",
    "e_reco_bins = np.logspace(*np.log10(fit_range.value), 14 + 1) * u.TeV\n",
    "\n",
    "on_region = CircleSkyRegion(center=crab_position, radius=on_radius[telescope])\n",
    "\n",
    "print('Estimating Background')\n",
    "bkg_estimate = ReflectedRegionsBackgroundEstimator(\n",
    "    obs_list=observations, on_region=on_region, exclusion_mask=exclusion_map\n",
    ")\n",
    "bkg_estimate.run()\n",
    "\n",
    "print('Extracting Count Spectra')\n",
    "extract = SpectrumExtraction(\n",
    "    obs_list=observations,\n",
    "    bkg_estimate=bkg_estimate.result,\n",
    "    e_true=e_true_bins,\n",
    "    e_reco=e_reco_bins,\n",
    "    containment_correction=False,\n",
    "    use_recommended_erange=False,\n",
    ")\n",
    "\n",
    "extract.run()\n",
    "\n",
    "observations = extract.observations\n",
    "\n",
    "# observations, fit_range = load_spectrum_observations('hess', low_binning=False)\n",
    "# observation = obs_list[1]\n",
    "obs_alpha = observations[0].alpha\n",
    "energy_bins = observations[0].on_vector.energy.bins\n",
    "print(len(energy_bins))\n",
    "fit_range # [obs.alpha for obs in observations]"
   ]
  },
  {
   "cell_type": "code",
   "execution_count": 106,
   "metadata": {},
   "outputs": [],
   "source": [
    "def forward_fold_log_parabola(amplitude, alpha, beta, observations, fit_range=None):\n",
    "    \n",
    "    amplitude *= 1e-11\n",
    "    \n",
    "    predicted_signal_per_observation = []\n",
    "    for observation in observations:\n",
    "        obs_bins = observation.on_vector.energy.bins.to_value(u.TeV)\n",
    "\n",
    "\n",
    "        aeff_bins = observation.aeff.energy\n",
    "        e_reco_bins = observation.edisp.e_reco\n",
    "        e_true_bins = observation.edisp.e_true\n",
    "\n",
    "        lower =  e_true_bins.lo.to_value(u.TeV)\n",
    "        upper = e_true_bins.hi.to_value(u.TeV)\n",
    "\n",
    "        func = lambda energy: amplitude * energy **(-alpha - beta * np.log10(energy))\n",
    "\n",
    "        counts = []\n",
    "        for a, b in zip(lower, upper):\n",
    "            x = np.linspace(a, b, num=3)\n",
    "            y = np.array([func(i) for i in x])\n",
    "            val = trapz(y, x)\n",
    "            counts.append(val)\n",
    "\n",
    "        counts = np.array(counts)\n",
    "        aeff = observation.aeff.data.data.to_value(u.cm**2).astype(np.float32)\n",
    "\n",
    "        counts *= aeff\n",
    "        counts *= observation.livetime.to_value(u.s)\n",
    "        edisp = observation.edisp.pdf_matrix\n",
    "        edisp = edisp\n",
    "\n",
    "        predicted_signal_per_observation.append(np.dot(counts, edisp))\n",
    "\n",
    "    predicted_counts = np.sum(predicted_signal_per_observation, axis=0)\n",
    "    if fit_range is not None:\n",
    "        idx = np.searchsorted(obs_bins, fit_range.to_value(u.TeV))\n",
    "        predicted_counts = predicted_counts[idx[0]:idx[1]]\n",
    "\n",
    "    return predicted_counts"
   ]
  },
  {
   "cell_type": "code",
   "execution_count": 107,
   "metadata": {},
   "outputs": [],
   "source": [
    "def forward_fold_log_parabola_symbolic(amplitude, alpha, beta, observations, fit_range=None, efficiency=1):\n",
    "    \n",
    "    amplitude *= 1e-11\n",
    "    \n",
    "    predicted_signal_per_observation = []\n",
    "    for observation in observations:\n",
    "        obs_bins = observation.on_vector.energy.bins.to_value(u.TeV)\n",
    "        \n",
    "        if fit_range is not None:\n",
    "            idx = np.searchsorted(obs_bins, fit_range.to_value(u.TeV))\n",
    "            lowest_bin = idx[0]\n",
    "            highest_bin = idx[1]\n",
    "        else:\n",
    "            lowest_bin = 0\n",
    "            highest_bin = len(obs_bins)\n",
    "\n",
    "\n",
    "        aeff_bins = observation.aeff.energy\n",
    "        e_reco_bins = observation.edisp.e_reco\n",
    "        e_true_bins = observation.edisp.e_true\n",
    "\n",
    "        lower =  e_true_bins.lo.to_value(u.TeV)\n",
    "        upper = e_true_bins.hi.to_value(u.TeV)\n",
    "\n",
    "        energy = T.dscalar('energy')\n",
    "        amplitude_ = T.dscalar('amplitude_')\n",
    "        alpha_ = T.dscalar('alpha_')\n",
    "        beta_ = T.dscalar('beta_')\n",
    "\n",
    "        func = amplitude_ * energy **(-alpha_ - beta_ * T.log10(energy))\n",
    "\n",
    "        counts = []\n",
    "        for a, b in zip(lower, upper):\n",
    "            c = Integrate(func, energy, a, b, amplitude_, alpha_, beta_)(amplitude, alpha, beta)\n",
    "            counts.append(c)\n",
    "\n",
    "        counts = T.stack(counts)\n",
    "        aeff = observation.aeff.data.data.to_value(u.cm**2).astype(np.float32)\n",
    "\n",
    "        counts *= efficiency * aeff\n",
    "        counts *= observation.livetime.to_value(u.s)\n",
    "        edisp = observation.edisp.pdf_matrix\n",
    "        edisp = edisp\n",
    "\n",
    "        predicted_signal_per_observation.append(T.dot(counts, edisp))\n",
    "\n",
    "    predicted_counts = T.sum(predicted_signal_per_observation, axis=0)\n",
    "\n",
    "    predicted_counts = predicted_counts[lowest_bin:highest_bin]\n",
    "\n",
    "    return predicted_counts"
   ]
  },
  {
   "cell_type": "code",
   "execution_count": 108,
   "metadata": {},
   "outputs": [
    {
     "data": {
      "text/plain": [
       "(array([593.90547298, 737.06338362, 549.14884918, 436.24041896,\n",
       "        352.11629696, 255.01706264, 193.67177852, 137.25346841,\n",
       "         88.45797208,  56.57436225,  37.78630591,  21.14003781,\n",
       "         11.47621112,   6.84679695]), (14,))"
      ]
     },
     "execution_count": 108,
     "metadata": {},
     "output_type": "execute_result"
    }
   ],
   "source": [
    "amplitude = T.dscalar('amplitude')\n",
    "alpha = T.dscalar('alpha')\n",
    "beta = T.dscalar('beta')\n",
    "\n",
    "cf_fast = forward_fold_log_parabola_symbolic(amplitude, alpha, beta, observations, fit_range=fit_range)\n",
    "counts_symbolic = cf_fast.eval({amplitude: 4.0, alpha: 2.5, beta: 0.4})\n",
    "counts_symbolic, counts_symbolic.shape"
   ]
  },
  {
   "cell_type": "code",
   "execution_count": 109,
   "metadata": {},
   "outputs": [
    {
     "data": {
      "text/plain": [
       "(array([593.90547298, 737.06338362, 549.14884918, 436.24041896,\n",
       "        352.11629696, 255.01706264, 193.67177852, 137.25346841,\n",
       "         88.45797208,  56.57436225,  37.78630591,  21.14003781,\n",
       "         11.47621112,   6.84679695]), (14,))"
      ]
     },
     "execution_count": 109,
     "metadata": {},
     "output_type": "execute_result"
    }
   ],
   "source": [
    "counts = forward_fold_log_parabola(4, 2.5, 0.4, observations, fit_range=fit_range)\n",
    "counts, counts.shape"
   ]
  },
  {
   "cell_type": "code",
   "execution_count": 110,
   "metadata": {},
   "outputs": [
    {
     "name": "stdout",
     "output_type": "stream",
     "text": [
      "27.2 ms ± 399 µs per loop (mean ± std. dev. of 7 runs, 10 loops each)\n"
     ]
    }
   ],
   "source": [
    "%timeit cf_fast.eval({amplitude: 4.0, alpha: 2.5, beta: 0.4})"
   ]
  },
  {
   "cell_type": "code",
   "execution_count": 111,
   "metadata": {},
   "outputs": [
    {
     "name": "stdout",
     "output_type": "stream",
     "text": [
      "9.26 ms ± 218 µs per loop (mean ± std. dev. of 7 runs, 100 loops each)\n"
     ]
    }
   ],
   "source": [
    "%timeit forward_fold_log_parabola(4, 2.5, 0.4, observations, fit_range=fit_range)"
   ]
  },
  {
   "cell_type": "code",
   "execution_count": null,
   "metadata": {},
   "outputs": [],
   "source": []
  }
 ],
 "metadata": {
  "kernelspec": {
   "display_name": "Python 3",
   "language": "python",
   "name": "python3"
  },
  "language_info": {
   "codemirror_mode": {
    "name": "ipython",
    "version": 3
   },
   "file_extension": ".py",
   "mimetype": "text/x-python",
   "name": "python",
   "nbconvert_exporter": "python",
   "pygments_lexer": "ipython3",
   "version": "3.7.2"
  }
 },
 "nbformat": 4,
 "nbformat_minor": 2
}
