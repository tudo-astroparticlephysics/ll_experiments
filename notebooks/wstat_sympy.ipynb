{
 "cells": [
  {
   "cell_type": "code",
   "execution_count": 1,
   "metadata": {},
   "outputs": [],
   "source": [
    "import sympy\n",
    "from sympy import Symbol, factorial, exp, init_printing, diff, solve, log, simplify, limit, expand, sqrt, summation, oo, Matrix, det\n",
    "init_printing()\n",
    "import matplotlib.pyplot as plt\n",
    "import numpy as np\n",
    "%matplotlib inline"
   ]
  },
  {
   "cell_type": "code",
   "execution_count": 2,
   "metadata": {},
   "outputs": [],
   "source": [
    "mu_s = Symbol('\\mu_s', positive=True)\n",
    "mu_b = Symbol('\\mu_b', positive=True)\n",
    "alpha = Symbol('\\\\alpha', positive=True)\n",
    "n_on = Symbol('N_{\\mathrm{on}}', positive=True, integer=True)\n",
    "n_off = Symbol('N_{\\mathrm{off}}', positive=True, integer=True)\n",
    "\n",
    "lam1 = (alpha * mu_b + mu_s)\n",
    "f1 = exp(-lam1)*lam1**n_on / factorial(n_on)\n",
    "\n",
    "lam2 = mu_b\n",
    "f2 = exp(-lam2)*lam2**n_off / factorial(n_off)\n"
   ]
  },
  {
   "cell_type": "code",
   "execution_count": 11,
   "metadata": {},
   "outputs": [
    {
     "data": {
      "image/png": "[encoded data removed]",
      "text/latex": [
       "$$N_{\\mathrm{off}} \\log{\\left (\\mu_b \\right )} + N_{\\mathrm{on}} \\log{\\left (\\alpha \\mu_b + \\mu_s \\right )} - \\alpha \\mu_b - \\mu_b - \\mu_s - \\log{\\left (N_{\\mathrm{off}}! \\right )} - \\log{\\left (N_{\\mathrm{on}}! \\right )}$$"
      ],
      "text/plain": [
       "N_{\\mathrm{off}}⋅log(\\mu_b) + N_{\\mathrm{on}}⋅log(\\alpha⋅\\mu_b + \\muₛ) - \\alph\n",
       "a⋅\\mu_b - \\mu_b - \\muₛ - log(N_{\\mathrm{off}}!) - log(N_{\\mathrm{on}}!)"
      ]
     },
     "execution_count": 11,
     "metadata": {},
     "output_type": "execute_result"
    }
   ],
   "source": [
    "ll = log(f1 * f2).expand().simplify()\n",
    "ll"
   ]
  },
  {
   "cell_type": "code",
   "execution_count": 13,
   "metadata": {},
   "outputs": [
    {
     "data": {
      "image/png": "[encoded data removed]",
      "text/latex": [
       "$$\\frac{N_{\\mathrm{off}}}{\\mu_b} + \\frac{N_{\\mathrm{on}} \\alpha}{\\alpha \\mu_b + \\mu_s} - \\alpha - 1$$"
      ],
      "text/plain": [
       "N_{\\mathrm{off}}   N_{\\mathrm{on}}⋅\\alpha             \n",
       "──────────────── + ────────────────────── - \\alpha - 1\n",
       "     \\mu_b          \\alpha⋅\\mu_b + \\muₛ               "
      ]
     },
     "execution_count": 13,
     "metadata": {},
     "output_type": "execute_result"
    }
   ],
   "source": [
    "dd = diff(ll, mu_b)\n",
    "dd"
   ]
  },
  {
   "cell_type": "code",
   "execution_count": 34,
   "metadata": {},
   "outputs": [
    {
     "data": {
      "image/png": "[encoded data removed]",
      "text/latex": [
       "$$\\frac{N_{\\mathrm{off}} \\alpha + N_{\\mathrm{on}} \\alpha - \\alpha \\mu_s - \\mu_s - \\sqrt{N_{\\mathrm{off}}^{2} \\alpha^{2} + 2 N_{\\mathrm{off}} N_{\\mathrm{on}} \\alpha^{2} + 2 N_{\\mathrm{off}} \\alpha^{2} \\mu_s + 2 N_{\\mathrm{off}} \\alpha \\mu_s + N_{\\mathrm{on}}^{2} \\alpha^{2} - 2 N_{\\mathrm{on}} \\alpha^{2} \\mu_s - 2 N_{\\mathrm{on}} \\alpha \\mu_s + \\alpha^{2} \\mu_s^{2} + 2 \\alpha \\mu_s^{2} + \\mu_s^{2}}}{2 \\alpha \\left(\\alpha + 1\\right)}$$"
      ],
      "text/plain": [
       "                                                                           ___\n",
       "                                                                          ╱   \n",
       "N_{\\mathrm{off}}⋅\\alpha + N_{\\mathrm{on}}⋅\\alpha - \\alpha⋅\\muₛ - \\muₛ - ╲╱  N_\n",
       "──────────────────────────────────────────────────────────────────────────────\n",
       "                                                                              \n",
       "\n",
       "______________________________________________________________________________\n",
       "              2       2                                            2          \n",
       "{\\mathrm{off}} ⋅\\alpha  + 2⋅N_{\\mathrm{off}}⋅N_{\\mathrm{on}}⋅\\alpha  + 2⋅N_{\\m\n",
       "──────────────────────────────────────────────────────────────────────────────\n",
       "                                                                              \n",
       "\n",
       "______________________________________________________________________________\n",
       "                  2                                                        2  \n",
       "athrm{off}}⋅\\alpha ⋅\\muₛ + 2⋅N_{\\mathrm{off}}⋅\\alpha⋅\\muₛ + N_{\\mathrm{on}} ⋅\\\n",
       "──────────────────────────────────────────────────────────────────────────────\n",
       "       2⋅\\alpha⋅(\\alpha + 1)                                                  \n",
       "\n",
       "______________________________________________________________________________\n",
       "     2                           2                                            \n",
       "alpha  - 2⋅N_{\\mathrm{on}}⋅\\alpha ⋅\\muₛ - 2⋅N_{\\mathrm{on}}⋅\\alpha⋅\\muₛ + \\alp\n",
       "──────────────────────────────────────────────────────────────────────────────\n",
       "                                                                              \n",
       "\n",
       "___________________________________\n",
       "  2     2                2       2 \n",
       "ha ⋅\\muₛ  + 2⋅\\alpha⋅\\muₛ  + \\muₛ  \n",
       "───────────────────────────────────\n",
       "                                   "
      ]
     },
     "execution_count": 34,
     "metadata": {},
     "output_type": "execute_result"
    }
   ],
   "source": [
    "r = solve(dd, mu_b)[0].simplify()\n",
    "r"
   ]
  },
  {
   "cell_type": "code",
   "execution_count": 46,
   "metadata": {},
   "outputs": [
    {
     "data": {
      "image/png": "[encoded data removed]",
      "text/latex": [
       "$$N_{\\mathrm{off}}^{2} \\alpha^{2} + 2 N_{\\mathrm{off}} N_{\\mathrm{on}} \\alpha^{2} + 2 N_{\\mathrm{off}} \\alpha^{2} \\mu_s + 2 N_{\\mathrm{off}} \\alpha \\mu_s + N_{\\mathrm{on}}^{2} \\alpha^{2} - 2 N_{\\mathrm{on}} \\alpha^{2} \\mu_s - 2 N_{\\mathrm{on}} \\alpha \\mu_s + \\alpha^{2} \\mu_s^{2} + 2 \\alpha \\mu_s^{2} + \\mu_s^{2}$$"
      ],
      "text/plain": [
       "                2       2                                            2        \n",
       "N_{\\mathrm{off}} ⋅\\alpha  + 2⋅N_{\\mathrm{off}}⋅N_{\\mathrm{on}}⋅\\alpha  + 2⋅N_{\n",
       "\n",
       "                    2                                                        2\n",
       "\\mathrm{off}}⋅\\alpha ⋅\\muₛ + 2⋅N_{\\mathrm{off}}⋅\\alpha⋅\\muₛ + N_{\\mathrm{on}} \n",
       "\n",
       "       2                           2                                          \n",
       "⋅\\alpha  - 2⋅N_{\\mathrm{on}}⋅\\alpha ⋅\\muₛ - 2⋅N_{\\mathrm{on}}⋅\\alpha⋅\\muₛ + \\a\n",
       "\n",
       "    2     2                2       2\n",
       "lpha ⋅\\muₛ  + 2⋅\\alpha⋅\\muₛ  + \\muₛ "
      ]
     },
     "execution_count": 46,
     "metadata": {},
     "output_type": "execute_result"
    }
   ],
   "source": [
    "radikant = (-(r * (2*alpha * (alpha + 1)) - n_off * alpha - n_on * alpha + mu_s * alpha + mu_s))**2\n",
    "radikant"
   ]
  },
  {
   "cell_type": "code",
   "execution_count": 66,
   "metadata": {},
   "outputs": [
    {
     "data": {
      "image/png": "[encoded data removed]",
      "text/latex": [
       "$$N_{\\mathrm{off}}^{2} \\alpha^{2} + 2 N_{\\mathrm{off}} N_{\\mathrm{on}} \\alpha^{2} + N_{\\mathrm{on}}^{2} \\alpha^{2} + \\mu_s^{2} \\left(\\alpha^{2} + 2 \\alpha + 1\\right) + \\mu_s \\left(2 N_{\\mathrm{off}} \\alpha^{2} + 2 N_{\\mathrm{off}} \\alpha - 2 N_{\\mathrm{on}} \\alpha^{2} - 2 N_{\\mathrm{on}} \\alpha\\right)$$"
      ],
      "text/plain": [
       "                2       2                                            2        \n",
       "N_{\\mathrm{off}} ⋅\\alpha  + 2⋅N_{\\mathrm{off}}⋅N_{\\mathrm{on}}⋅\\alpha  + N_{\\m\n",
       "\n",
       "          2       2       2 ⎛      2               ⎞        ⎛                 \n",
       "athrm{on}} ⋅\\alpha  + \\muₛ ⋅⎝\\alpha  + 2⋅\\alpha + 1⎠ + \\muₛ⋅⎝2⋅N_{\\mathrm{off}\n",
       "\n",
       "        2                                                       2             \n",
       "}⋅\\alpha  + 2⋅N_{\\mathrm{off}}⋅\\alpha - 2⋅N_{\\mathrm{on}}⋅\\alpha  - 2⋅N_{\\math\n",
       "\n",
       "              ⎞\n",
       "rm{on}}⋅\\alpha⎠"
      ]
     },
     "execution_count": 66,
     "metadata": {},
     "output_type": "execute_result"
    }
   ],
   "source": [
    "radikant.factor(alpha).factor(mu_s)"
   ]
  },
  {
   "cell_type": "code",
   "execution_count": 3,
   "metadata": {},
   "outputs": [
    {
     "data": {
      "image/png": "[encoded data removed]",
      "text/latex": [
       "$$\\frac{\\mu_b^{N_{\\mathrm{off}}} \\left(\\alpha \\mu_b + \\mu_s\\right)^{N_{\\mathrm{on}}} e^{- \\mu_b} e^{- \\alpha \\mu_b - \\mu_s}}{N_{\\mathrm{off}}! N_{\\mathrm{on}}!}$$"
      ],
      "text/plain": [
       "     N_{\\mathrm{off}}                      N_{\\mathrm{on}}  -\\mu_b  -\\alpha⋅\\m\n",
       "\\mu_b                ⋅(\\alpha⋅\\mu_b + \\muₛ)               ⋅ℯ      ⋅ℯ          \n",
       "──────────────────────────────────────────────────────────────────────────────\n",
       "                           N_{\\mathrm{off}}!⋅N_{\\mathrm{on}}!                 \n",
       "\n",
       "u_b - \\muₛ\n",
       "          \n",
       "──────────\n",
       "          "
      ]
     },
     "execution_count": 3,
     "metadata": {},
     "output_type": "execute_result"
    }
   ],
   "source": [
    "likelihood = f1*f2\n",
    "likelihood"
   ]
  },
  {
   "cell_type": "code",
   "execution_count": 37,
   "metadata": {},
   "outputs": [
    {
     "data": {
      "text/plain": [
       "'\\\\frac{\\\\mu_b^{N_{\\\\mathrm{off}}} \\\\left(\\\\alpha \\\\mu_b + \\\\mu_s\\\\right)^{N_{\\\\mathrm{on}}} e^{- \\\\mu_b} e^{- \\\\alpha \\\\mu_b - \\\\mu_s}}{N_{\\\\mathrm{off}}! N_{\\\\mathrm{on}}!}'"
      ]
     },
     "execution_count": 37,
     "metadata": {},
     "output_type": "execute_result"
    }
   ],
   "source": [
    "sympy.latex(likelihood)"
   ]
  },
  {
   "cell_type": "code",
   "execution_count": null,
   "metadata": {},
   "outputs": [],
   "source": []
  }
 ],
 "metadata": {
  "kernelspec": {
   "display_name": "Python 3",
   "language": "python",
   "name": "python3"
  },
  "language_info": {
   "codemirror_mode": {
    "name": "ipython",
    "version": 3
   },
   "file_extension": ".py",
   "mimetype": "text/x-python",
   "name": "python",
   "nbconvert_exporter": "python",
   "pygments_lexer": "ipython3",
   "version": "3.7.2"
  }
 },
 "nbformat": 4,
 "nbformat_minor": 2
}
