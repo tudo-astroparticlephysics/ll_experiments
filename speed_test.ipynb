{
 "cells": [
  {
   "cell_type": "code",
   "execution_count": 1,
   "metadata": {},
   "outputs": [],
   "source": [
    "from scipy.integrate import quad, trapz, fixed_quad\n",
    "import theano\n",
    "import theano.tensor as T\n",
    "from theano.tests.unittest_tools import verify_grad\n",
    "from theano.compile.ops import as_op\n",
    "\n",
    "import numpy as np\n",
    "import pymc3 as pm\n",
    "\n",
    "import matplotlib.pyplot as plt\n",
    "\n",
    "import astropy.units as u\n",
    "\n",
    "from tqdm import tqdm\n",
    "\n",
    "from gammapy.spectrum import CountsPredictor, CountsSpectrum\n",
    "\n",
    "from utils import load_spectrum_observations, plot_spectra, Log10Parabola, integrate_spectrum, wstat_profile\n",
    "from forward_fold_model import model_probability, ln_profile_likelihood\n",
    "\n",
    "%matplotlib inline"
   ]
  },
  {
   "cell_type": "code",
   "execution_count": 2,
   "metadata": {
    "scrolled": false
   },
   "outputs": [],
   "source": [
    "class Integrate(theano.Op):\n",
    "    def __init__(self, expr, var, lower, upper, *inputs):\n",
    "        super().__init__()\n",
    "        self._expr = expr\n",
    "        self._var = var\n",
    "        self._extra_vars = inputs\n",
    "        self.lower = lower\n",
    "        self.upper = upper\n",
    "        self._func = theano.function(\n",
    "            [var] + list(self._extra_vars),\n",
    "            self._expr,\n",
    "            on_unused_input='ignore'\n",
    "        )\n",
    "    \n",
    "    def make_node(self, *inputs):\n",
    "        assert len(self._extra_vars)  == len(inputs)\n",
    "        return theano.Apply(self, list(inputs), [T.dscalar().type()])\n",
    "    \n",
    "    def perform(self, node, inputs, out):\n",
    "        x = np.linspace(self.lower, self.upper, num=3)\n",
    "        y = np.array([self._func(i , *inputs) for i in x])\n",
    "        val = trapz(y, x)\n",
    "#         print(val)\n",
    "#         val = quad(self._func, self.lower, self.upper, args=tuple(inputs))[0]\n",
    "        out[0][0] = np.array(val)\n",
    "        \n",
    "    def grad(self, inputs, grads):\n",
    "        out, = grads\n",
    "        grads = T.grad(self._expr, self._extra_vars)\n",
    "        dargs = []\n",
    "        for grad in grads:\n",
    "            integrate = Integrate(grad, self._var, self.lower, self.upper, *self._extra_vars)\n",
    "            darg = out * integrate(*inputs)\n",
    "            dargs.append(darg)\n",
    "            \n",
    "        return dargs"
   ]
  },
  {
   "cell_type": "code",
   "execution_count": 3,
   "metadata": {},
   "outputs": [],
   "source": [
    "def apply_range(*arr, fit_range, bins):\n",
    "    idx = np.searchsorted(bins.to_value(u.TeV), fit_range.to_value(u.TeV))\n",
    "    return [a[idx[0]:idx[1]] for a in arr]"
   ]
  },
  {
   "cell_type": "code",
   "execution_count": 23,
   "metadata": {},
   "outputs": [],
   "source": [
    "def forward_fold_log_parabola_symbolic(amplitude, alpha, beta, observations, fit_range=None, efficiency=1):\n",
    "    \n",
    "    amplitude *= 1e-11\n",
    "    \n",
    "    predicted_signal_per_observation = []\n",
    "    for observation in observations:\n",
    "        obs_bins = observation.on_vector.energy.bins.to_value(u.TeV)\n",
    "\n",
    "\n",
    "        aeff_bins = observation.aeff.energy\n",
    "        e_reco_bins = observation.edisp.e_reco\n",
    "        e_true_bins = observation.edisp.e_true\n",
    "\n",
    "        lower =  e_true_bins.lo.to_value(u.TeV)\n",
    "        upper = e_true_bins.hi.to_value(u.TeV)\n",
    "\n",
    "        energy = T.dscalar('energy')\n",
    "        amplitude_ = T.dscalar('amplitude_')\n",
    "        alpha_ = T.dscalar('alpha_')\n",
    "        beta_ = T.dscalar('beta_')\n",
    "\n",
    "        func = amplitude_ * energy **(-alpha_ - beta_ * T.log10(energy))\n",
    "\n",
    "        counts = []\n",
    "        for a, b in zip(lower, upper):\n",
    "            c = Integrate(func, energy, a, b, amplitude_, alpha_, beta_)(amplitude, alpha, beta)\n",
    "            counts.append(c)\n",
    "\n",
    "        counts = T.stack(counts)\n",
    "        aeff = observation.aeff.data.data.to_value(u.cm**2).astype(np.float32)\n",
    "\n",
    "        counts *= efficiency * aeff\n",
    "        counts *= observation.livetime.to_value(u.s)\n",
    "        edisp = observation.edisp.pdf_matrix\n",
    "        edisp = edisp\n",
    "\n",
    "        predicted_signal_per_observation.append(T.dot(counts, edisp))\n",
    "\n",
    "    predicted_counts = T.sum(predicted_signal_per_observation, axis=0)\n",
    "    if fit_range is not None:\n",
    "        idx = np.searchsorted(obs_bins, fit_range.to_value(u.TeV))\n",
    "        predicted_counts = predicted_counts[idx[0]:idx[1]]\n",
    "\n",
    "    return predicted_counts"
   ]
  },
  {
   "cell_type": "code",
   "execution_count": 24,
   "metadata": {},
   "outputs": [],
   "source": [
    "def forward_fold_log_parabola(amplitude, alpha, beta, observations, fit_range=None, efficiency=1):\n",
    "    \n",
    "    amplitude *= 1e-11\n",
    "    \n",
    "    predicted_signal_per_observation = []\n",
    "    for observation in observations:\n",
    "        obs_bins = observation.on_vector.energy.bins.to_value(u.TeV)\n",
    "\n",
    "\n",
    "        aeff_bins = observation.aeff.energy\n",
    "        e_reco_bins = observation.edisp.e_reco\n",
    "        e_true_bins = observation.edisp.e_true\n",
    "\n",
    "        lower =  e_true_bins.lo.to_value(u.TeV)\n",
    "        upper = e_true_bins.hi.to_value(u.TeV)\n",
    "\n",
    "        func = lambda energy: amplitude * energy **(-alpha - beta * np.log10(energy))\n",
    "\n",
    "        counts = []\n",
    "        for a, b in zip(lower, upper):\n",
    "            x = np.linspace(a, b, num=3)\n",
    "            y = np.array([func(i) for i in x])\n",
    "            val = trapz(y, x)\n",
    "            counts.append(val)\n",
    "\n",
    "        counts = np.array(counts)\n",
    "        aeff = observation.aeff.data.data.to_value(u.cm**2).astype(np.float32)\n",
    "\n",
    "        counts *= efficiency * aeff\n",
    "        counts *= observation.livetime.to_value(u.s)\n",
    "        edisp = observation.edisp.pdf_matrix\n",
    "        edisp = edisp\n",
    "\n",
    "        predicted_signal_per_observation.append(np.dot(counts, edisp))\n",
    "\n",
    "    predicted_counts = np.sum(predicted_signal_per_observation, axis=0)\n",
    "    if fit_range is not None:\n",
    "        idx = np.searchsorted(obs_bins, fit_range.to_value(u.TeV))\n",
    "        predicted_counts = predicted_counts[idx[0]:idx[1]]\n",
    "\n",
    "    return predicted_counts"
   ]
  },
  {
   "cell_type": "code",
   "execution_count": 25,
   "metadata": {},
   "outputs": [
    {
     "name": "stdout",
     "output_type": "stream",
     "text": [
      "73\n"
     ]
    },
    {
     "data": {
      "text/plain": [
       "([<gammapy.spectrum.observation.SpectrumObservation object at 0x7ff0198d31d0>],\n",
       " <Quantity [ 0.4, 30. ] TeV>)"
      ]
     },
     "execution_count": 25,
     "metadata": {},
     "output_type": "execute_result"
    }
   ],
   "source": [
    "observations, fit_range = load_spectrum_observations('fact', low_binning=False)\n",
    "# observation = obs_list[1]\n",
    "obs_alpha = observations[0].alpha[0]\n",
    "energy_bins = observations[0].on_vector.energy.bins\n",
    "print(len(energy_bins))\n",
    "observations, fit_range # [obs.alpha for obs in observations]"
   ]
  },
  {
   "cell_type": "code",
   "execution_count": 26,
   "metadata": {},
   "outputs": [
    {
     "data": {
      "text/plain": [
       "array([ 3.18882116,  5.75584183,  9.85494299, 15.5439218 , 22.59697128,\n",
       "       29.7498651 , 35.09259171, 38.84889437, 40.10574522, 38.54389662,\n",
       "       36.19330187, 32.57614234, 27.83911836, 23.64408061, 19.67296688,\n",
       "       15.9753555 , 13.20937235, 10.83104105,  8.65558815,  6.99811944,\n",
       "        5.60007273,  4.38645758,  3.50388891,  2.76998654,  2.12690518,\n",
       "        1.65219157,  1.25757336,  0.92742646,  0.69276249,  0.51152918,\n",
       "        0.36767132,  0.26434699,  0.18044049,  0.11371709])"
      ]
     },
     "execution_count": 26,
     "metadata": {},
     "output_type": "execute_result"
    }
   ],
   "source": [
    "forward_fold_log_parabola(4, 2.5, 0.4, observations, fit_range=fit_range)"
   ]
  },
  {
   "cell_type": "code",
   "execution_count": 28,
   "metadata": {},
   "outputs": [
    {
     "data": {
      "text/plain": [
       "(array([ 3.18882116,  5.75584183,  9.85494299, 15.5439218 , 22.59697128,\n",
       "        29.7498651 , 35.09259171, 38.84889437, 40.10574522, 38.54389662,\n",
       "        36.19330187, 32.57614234, 27.83911836, 23.64408061, 19.67296688,\n",
       "        15.9753555 , 13.20937235, 10.83104105,  8.65558815,  6.99811944,\n",
       "         5.60007273,  4.38645758,  3.50388891,  2.76998654,  2.12690518,\n",
       "         1.65219157,  1.25757336,  0.92742646,  0.69276249,  0.51152918,\n",
       "         0.36767132,  0.26434699,  0.18044049,  0.11371709]), (34,))"
      ]
     },
     "execution_count": 28,
     "metadata": {},
     "output_type": "execute_result"
    }
   ],
   "source": [
    "amplitude = T.dscalar('amplitude')\n",
    "alpha = T.dscalar('alpha')\n",
    "beta = T.dscalar('beta')\n",
    "\n",
    "cf_fast = forward_fold_log_parabola_symbolic(amplitude, alpha, beta, observations, fit_range=fit_range)\n",
    "counts_symbolic = cf_fast.eval({amplitude: 4.0, alpha: 2.5, beta: 0.4})\n",
    "counts_symbolic, counts_symbolic.shape"
   ]
  },
  {
   "cell_type": "code",
   "execution_count": 29,
   "metadata": {},
   "outputs": [
    {
     "name": "stdout",
     "output_type": "stream",
     "text": [
      "22.6 ms ± 1.28 ms per loop (mean ± std. dev. of 7 runs, 10 loops each)\n"
     ]
    }
   ],
   "source": [
    "%timeit cf_fast.eval({amplitude: 4.0, alpha: 2.5, beta: 0.4})"
   ]
  },
  {
   "cell_type": "code",
   "execution_count": 30,
   "metadata": {},
   "outputs": [
    {
     "name": "stdout",
     "output_type": "stream",
     "text": [
      "6.48 ms ± 651 µs per loop (mean ± std. dev. of 7 runs, 100 loops each)\n"
     ]
    }
   ],
   "source": [
    "%timeit forward_fold_log_parabola(4, 2.5, 0.4, observations, fit_range=fit_range)"
   ]
  },
  {
   "cell_type": "code",
   "execution_count": null,
   "metadata": {},
   "outputs": [],
   "source": []
  }
 ],
 "metadata": {
  "kernelspec": {
   "display_name": "Python 3",
   "language": "python",
   "name": "python3"
  },
  "language_info": {
   "codemirror_mode": {
    "name": "ipython",
    "version": 3
   },
   "file_extension": ".py",
   "mimetype": "text/x-python",
   "name": "python",
   "nbconvert_exporter": "python",
   "pygments_lexer": "ipython3",
   "version": "3.7.0"
  }
 },
 "nbformat": 4,
 "nbformat_minor": 2
}
