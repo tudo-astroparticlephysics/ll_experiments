{
 "cells": [
  {
   "cell_type": "code",
   "execution_count": 1,
   "metadata": {},
   "outputs": [],
   "source": [
    "from scipy.integrate import quad, trapz, fixed_quad\n",
    "import theano\n",
    "import theano.tensor as T\n",
    "from theano.tests.unittest_tools import verify_grad\n",
    "from theano.compile.ops import as_op\n",
    "\n",
    "import numpy as np\n",
    "import pymc3 as pm\n",
    "\n",
    "import matplotlib.pyplot as plt\n",
    "\n",
    "import astropy.units as u\n",
    "\n",
    "from tqdm import tqdm\n",
    "\n",
    "from gammapy.spectrum import CountsPredictor, CountsSpectrum\n",
    "\n",
    "from utils import load_spectrum_observations, plot_spectra, Log10Parabola, integrate_spectrum, wstat_profile\n",
    "from forward_fold_model import model_probability, ln_profile_likelihood\n",
    "\n",
    "%matplotlib inline"
   ]
  },
  {
   "cell_type": "code",
   "execution_count": 2,
   "metadata": {
    "scrolled": false
   },
   "outputs": [],
   "source": [
    "# theano.config.floatX ='float32'\n",
    "# print(theano.config)\n",
    "class Integrate(theano.Op):\n",
    "    def __init__(self, expr, var, lower, upper, *inputs):\n",
    "        super().__init__()\n",
    "        self._expr = expr\n",
    "        self._var = var\n",
    "        self._extra_vars = inputs\n",
    "        self.lower = lower\n",
    "        self.upper = upper\n",
    "        self._func = theano.function(\n",
    "            [var] + list(self._extra_vars),\n",
    "            self._expr,\n",
    "            on_unused_input='ignore'\n",
    "        )\n",
    "    \n",
    "    def make_node(self, *inputs):\n",
    "        assert len(self._extra_vars)  == len(inputs)\n",
    "        return theano.Apply(self, list(inputs), [T.dscalar().type()])\n",
    "    \n",
    "    def perform(self, node, inputs, out):\n",
    "        x = np.linspace(self.lower, self.upper, num=3)\n",
    "        y = np.array([self._func(i , *inputs) for i in x])\n",
    "        val = trapz(y, x)\n",
    "#         print(val)\n",
    "#         val = quad(self._func, self.lower, self.upper, args=tuple(inputs))[0]\n",
    "        out[0][0] = np.array(val)\n",
    "        \n",
    "    def grad(self, inputs, grads):\n",
    "        out, = grads\n",
    "        grads = T.grad(self._expr, self._extra_vars)\n",
    "        dargs = []\n",
    "        for grad in grads:\n",
    "            integrate = Integrate(grad, self._var, self.lower, self.upper, *self._extra_vars)\n",
    "            darg = out * integrate(*inputs)\n",
    "            dargs.append(darg)\n",
    "            \n",
    "        return dargs"
   ]
  },
  {
   "cell_type": "code",
   "execution_count": 3,
   "metadata": {},
   "outputs": [],
   "source": [
    "def apply_range(*arr, fit_range, bins):\n",
    "    idx = np.searchsorted(bins.to(u.TeV).value, fit_range.to(u.TeV).value )\n",
    "#     print(len(arr))\n",
    "#     if len(arr) == 1:\n",
    "#         print(arr)\n",
    "    return [a[idx[0]:idx[1]] for a in arr]\n",
    "\n",
    "def forward_fold_gammapy(amplitude, alpha, beta, observation):\n",
    "#     bins = obs.on_vector.energy.bins\n",
    "    model = Log10Parabola(\n",
    "        amplitude=amplitude * 1e-11 * u.Unit('cm-2 s-1 TeV-1'),\n",
    "        reference=1 * u.Unit('TeV'),\n",
    "        alpha=alpha * u.Unit(''),\n",
    "        beta=beta * u.Unit(''),\n",
    "    )\n",
    "    \n",
    "    predictor = CountsPredictor(model=model, aeff=observation.aeff, edisp=observation.edisp, livetime=observation.livetime)\n",
    "    predictor.run()\n",
    "    counts = predictor.npred.data.data\n",
    "#     counts *= observation.on_vector.areascal\n",
    "    return counts.value"
   ]
  },
  {
   "cell_type": "code",
   "execution_count": 4,
   "metadata": {},
   "outputs": [],
   "source": [
    "def forward_fold_log_parabola_symbolic(amplitude, alpha, beta, observation, fit_range=None):\n",
    "\n",
    "    obs_bins = observation.on_vector.energy\n",
    "    aeff_bins = observation.aeff.energy\n",
    "    e_reco_bins = observation.edisp.e_reco\n",
    "    e_true_bins = observation.edisp.e_true\n",
    "     \n",
    "    if fit_range:\n",
    "        lo = obs_bins.lo.min()\n",
    "        hi = obs_bins.hi.max()\n",
    "        lo = max(fit_range[0], lo).to_value(u.TeV)\n",
    "        hi = min(fit_range[1], hi ).to_value(u.TeV)\n",
    "    else:\n",
    "        lo = obs_bins.lo.min().to_value(u.TeV)\n",
    "        hi = obs_bins.hi.max().to_value(u.TeV)\n",
    "\n",
    "    obs_mask = (obs_bins.lo.to_value(u.TeV) > lo ) & (obs_bins.hi.to_value(u.TeV) <= hi)\n",
    "    aeff_mask = (aeff_bins.lo.to_value(u.TeV) > lo ) & (aeff_bins.hi.to_value(u.TeV) <= hi)\n",
    "    e_reco_mask = (e_reco_bins.lo.to_value(u.TeV) > lo ) & (e_reco_bins.hi.to_value(u.TeV) <= hi)\n",
    "    e_true_mask = (e_true_bins.lo.to_value(u.TeV) > lo ) & (e_true_bins.hi.to_value(u.TeV) <= hi)\n",
    "    \n",
    "   \n",
    "    lower =  e_true_bins.lo[e_true_mask].to_value(u.TeV)\n",
    "    upper = e_true_bins.hi[e_true_mask].to_value(u.TeV)\n",
    "\n",
    "    amplitude *= 1e-11\n",
    "    \n",
    "    energy = T.dscalar('energy')\n",
    "    amplitude_ = T.dscalar('amplitude_')\n",
    "    alpha_ = T.dscalar('alpha_')\n",
    "    beta_ = T.dscalar('beta_')\n",
    "\n",
    "    func = amplitude_ * energy **(-alpha_ - beta_ * T.log10(energy))\n",
    "    \n",
    "    counts = []\n",
    "    for a, b in zip(lower, upper):\n",
    "        c = Integrate(func, energy, a, b, amplitude_, alpha_, beta_)(amplitude, alpha, beta)\n",
    "        counts.append(c)\n",
    "\n",
    "    counts = T.stack(counts)\n",
    "    aeff = observation.aeff.data.data.to_value(u.cm**2).astype(np.float32)[aeff_mask]\n",
    "    aeff = T.constant(aeff)\n",
    "    \n",
    "\n",
    "    counts *= aeff\n",
    "    counts *= theano.shared(observation.livetime.to_value(u.s))\n",
    "    edisp = observation.edisp.pdf_matrix[e_true_mask]\n",
    "    edisp = T.constant(edisp)\n",
    "    \n",
    "    return T.dot(counts, edisp)"
   ]
  },
  {
   "cell_type": "code",
   "execution_count": 5,
   "metadata": {},
   "outputs": [],
   "source": [
    "obs_list, fit_range = load_spectrum_observations('fact')\n",
    "observation = obs_list[0]\n",
    "energy_bins = observation.on_vector.energy.bins"
   ]
  },
  {
   "cell_type": "code",
   "execution_count": 6,
   "metadata": {
    "scrolled": false
   },
   "outputs": [
    {
     "data": {
      "text/plain": [
       "(6011.934915181168,\n",
       " array([ 2.83641875,  5.03451983,  8.58513145, 13.73386645, 20.43515058,\n",
       "        27.81452573, 34.29191945, 39.77983177, 43.17620902, 43.75214362,\n",
       "        43.23565957, 40.99682698, 36.98690407, 33.15867575, 29.14912131,\n",
       "        24.9871197 , 21.71731737, 18.67498731, 15.63194352, 13.21337521,\n",
       "        11.05064186,  9.0374708 ,  7.52087301,  6.18769006,  4.93665392,\n",
       "         3.97537069,  3.13799023,  2.4017132 ,  1.86052837,  1.42260807,\n",
       "         1.05535167,  0.78090854,  0.54856758,  0.35638484]))"
      ]
     },
     "execution_count": 6,
     "metadata": {},
     "output_type": "execute_result"
    }
   ],
   "source": [
    "def wstat_model(amplitude, alpha, beta, observation, fit_range):\n",
    "    mu_sig = forward_fold_gammapy(amplitude, alpha, beta, observation=observation)\n",
    "#     print(mu_sig.shape)\n",
    "    on_data = observation.on_vector.data.data.value\n",
    "    off_data = observation.off_vector.data.data.value\n",
    "    \n",
    "    mu_sig, on_data, off_data, obs_alpha = apply_range(mu_sig, on_data, off_data, observation.alpha, fit_range=fit_range, bins=energy_bins)\n",
    "    p = ln_profile_likelihood(mu_sig, on_data, off_data, alpha=obs_alpha)\n",
    "    p = -0.5*sum(p)\n",
    "#     print('Prob:', p)\n",
    "#     print('n_on:', on_data)\n",
    "#     print('n_off:', off_data)\n",
    "#     print('obs_alpha:', obs_alpha)\n",
    "    return p, mu_sig\n",
    "\n",
    "wstat_model(4, 2, 0.5, observation, fit_range=fit_range)"
   ]
  },
  {
   "cell_type": "code",
   "execution_count": 13,
   "metadata": {},
   "outputs": [],
   "source": [
    "def wstat_model_symbolic(mu_sig, observation, fit_range):\n",
    "    on_data = observation.on_vector.data.data.value\n",
    "    off_data = observation.off_vector.data.data.value\n",
    "    \n",
    "    mu_sig, on_data, off_data, obs_alpha = apply_range(mu_sig, on_data, off_data, observation.alpha, fit_range=fit_range, bins=energy_bins)\n",
    "    p = ln_profile_likelihood(mu_sig, on_data, off_data, alpha=obs_alpha)\n",
    "    p = -0.5*sum(p)\n",
    "    return p, mu_sig"
   ]
  },
  {
   "cell_type": "code",
   "execution_count": 14,
   "metadata": {},
   "outputs": [
    {
     "data": {
      "text/plain": [
       "(array([ 2.84025332,  5.04124389,  8.59653947, 13.75222054, 20.46277659,\n",
       "        27.85280276, 34.34030109, 39.83747791, 43.24062197, 43.81950991,\n",
       "        43.30430585, 41.06400937, 37.04957655, 33.21675532, 29.2019266 ,\n",
       "        25.03393839, 21.75930759, 18.71221531, 15.6640727 , 13.24134702,\n",
       "        11.07473968,  9.0577734 ,  7.53825383,  6.20239515,  4.94870911,\n",
       "         3.98533556,  3.14605724,  2.40804934,  1.86555152,  1.42651212,\n",
       "         1.0582746 ,  0.78305883,  0.55000366,  0.35720872]),\n",
       " array([ 2.83641875,  5.03451983,  8.58513145, 13.73386645, 20.43515058,\n",
       "        27.81452573, 34.29191945, 39.77983177, 43.17620902, 43.75214362,\n",
       "        43.23565957, 40.99682698, 36.98690407, 33.15867575, 29.14912131,\n",
       "        24.9871197 , 21.71731737, 18.67498731, 15.63194352, 13.21337521,\n",
       "        11.05064186,  9.0374708 ,  7.52087301,  6.18769006,  4.93665392,\n",
       "         3.97537069,  3.13799023,  2.4017132 ,  1.86052837,  1.42260807,\n",
       "         1.05535167,  0.78090854,  0.54856758,  0.35638484]),\n",
       " array([ 2.83641875,  5.03451983,  8.58513145, 13.73386645, 20.43515058,\n",
       "        27.81452573, 34.29191945, 39.77983177, 43.17620902, 43.75214362,\n",
       "        43.23565957, 40.99682698, 36.98690407, 33.15867575, 29.14912131,\n",
       "        24.9871197 , 21.71731737, 18.67498731, 15.63194352, 13.21337521,\n",
       "        11.05064186,  9.0374708 ,  7.52087301,  6.18769006,  4.93665392,\n",
       "         3.97537069,  3.13799023,  2.4017132 ,  1.86052837,  1.42260807,\n",
       "         1.05535167,  0.78090854,  0.54856758,  0.35638484]))"
      ]
     },
     "execution_count": 14,
     "metadata": {},
     "output_type": "execute_result"
    }
   ],
   "source": [
    "amplitude = T.dscalar('amplitude')\n",
    "alpha = T.dscalar('alpha')\n",
    "beta = T.dscalar('beta')\n",
    "cf = forward_fold_log_parabola_symbolic(amplitude, alpha, beta, observation)\n",
    "counts_symbolic = cf.eval({amplitude: 4.0, alpha: 2.0, beta: 0.5})\n",
    "counts_symbolic = apply_range(counts_symbolic, fit_range=fit_range, bins=energy_bins)[0]\n",
    "\n",
    "_, counts_gammapy = wstat_model(4, 2, 0.5, observation, fit_range=fit_range)\n",
    "\n",
    "_, counts_emcee = model_probability([4, 2, 0.5], [observation], fit_range=fit_range)\n",
    "\n",
    "counts_symbolic, counts_gammapy, counts_emcee"
   ]
  },
  {
   "cell_type": "code",
   "execution_count": 16,
   "metadata": {},
   "outputs": [
    {
     "data": {
      "text/plain": [
       "(6011.801813073105, 6011.934915181168, 6011.934915181169)"
      ]
     },
     "execution_count": 16,
     "metadata": {},
     "output_type": "execute_result"
    }
   ],
   "source": [
    "amplitude = T.dscalar('amplitude')\n",
    "alpha = T.dscalar('alpha')\n",
    "beta = T.dscalar('beta')\n",
    "cf = forward_fold_log_parabola_symbolic(amplitude, alpha, beta, observation)\n",
    "mu_sig = cf.eval({amplitude: 4.0, alpha: 2.0, beta: 0.5})\n",
    "\n",
    "p_symbolic, counts_symbolic = wstat_model_from_counts(mu_sig, observation, fit_range=fit_range)\n",
    "p_gammapy, counts_gammapy = wstat_model(4, 2, 0.5, observation, fit_range=fit_range)\n",
    "\n",
    "p_emcee, counts_emcee = model_probability([4, 2, 0.5], [observation], fit_range=fit_range)\n",
    "\n",
    "p_symbolic, p_gammapy, p_emcee"
   ]
  },
  {
   "cell_type": "code",
   "execution_count": 17,
   "metadata": {
    "scrolled": false
   },
   "outputs": [
    {
     "name": "stderr",
     "output_type": "stream",
     "text": [
      "625it [00:01, 338.98it/s]\n"
     ]
    },
    {
     "data": {
      "text/plain": [
       "<matplotlib.colorbar.Colorbar at 0x7fd94c11d6a0>"
      ]
     },
     "execution_count": 17,
     "metadata": {},
     "output_type": "execute_result"
    },
    {
     "data": {
      "image/png": "[encoded data removed]",
      "text/plain": [
       "<Figure size 432x396 with 2 Axes>"
      ]
     },
     "metadata": {
      "needs_background": "light"
     },
     "output_type": "display_data"
    }
   ],
   "source": [
    "\n",
    "N = 25\n",
    "betas = np.linspace(0, 1, N)\n",
    "alphas = np.linspace(2.1, 3.0, N)\n",
    "a, b = np.meshgrid(alphas, betas)\n",
    "\n",
    "zs = []\n",
    "for alpha, beta in tqdm(zip(a.ravel(), b.ravel())):\n",
    "    p, _ = model_probability([4, alpha, beta], [observation], fit_range=fit_range)\n",
    "    zs.append(p)\n",
    "\n",
    "zs = np.array(zs)\n",
    "\n",
    "fig, ax1 = plt.subplots(1, 1, figsize=(6, 5.5))\n",
    "cf = ax1.contourf(a, b, zs.reshape(len(a), -1),  levels=24)\n",
    "ax1.set_xlabel('alpha')\n",
    "ax1.set_ylabel('beta')\n",
    "plt.colorbar(cf, ax=ax1)"
   ]
  },
  {
   "cell_type": "code",
   "execution_count": 18,
   "metadata": {},
   "outputs": [
    {
     "name": "stderr",
     "output_type": "stream",
     "text": [
      "625it [00:01, 329.09it/s]\n"
     ]
    },
    {
     "data": {
      "text/plain": [
       "<matplotlib.colorbar.Colorbar at 0x7fd94c069278>"
      ]
     },
     "execution_count": 18,
     "metadata": {},
     "output_type": "execute_result"
    },
    {
     "data": {
      "image/png": "[encoded data removed]",
      "text/plain": [
       "<Figure size 432x396 with 2 Axes>"
      ]
     },
     "metadata": {
      "needs_background": "light"
     },
     "output_type": "display_data"
    }
   ],
   "source": [
    "N = 25\n",
    "betas = np.linspace(0, 1, N)\n",
    "alphas = np.linspace(2.1, 3.0, N)\n",
    "a, b = np.meshgrid(alphas, betas)\n",
    "\n",
    "zs = []\n",
    "for alpha, beta in tqdm(zip(a.ravel(), b.ravel())):\n",
    "    p, _ = wstat_model(4, alpha, beta, observation, fit_range=fit_range)\n",
    "    zs.append(p)\n",
    "\n",
    "zs = np.array(zs)\n",
    "\n",
    "fig, ax1 = plt.subplots(1, 1, figsize=(6, 5.5))\n",
    "cf = ax1.contourf(a, b, zs.reshape(len(a), -1),  levels=24)\n",
    "ax1.set_xlabel('alpha')\n",
    "ax1.set_ylabel('beta')\n",
    "plt.colorbar(cf, ax=ax1)"
   ]
  },
  {
   "cell_type": "code",
   "execution_count": 19,
   "metadata": {},
   "outputs": [
    {
     "name": "stderr",
     "output_type": "stream",
     "text": [
      "625it [00:11, 53.18it/s]\n"
     ]
    },
    {
     "data": {
      "text/plain": [
       "<matplotlib.colorbar.Colorbar at 0x7fd94755dda0>"
      ]
     },
     "execution_count": 19,
     "metadata": {},
     "output_type": "execute_result"
    },
    {
     "data": {
      "image/png": "[encoded data removed]",
      "text/plain": [
       "<Figure size 432x396 with 2 Axes>"
      ]
     },
     "metadata": {
      "needs_background": "light"
     },
     "output_type": "display_data"
    }
   ],
   "source": [
    "N = 25\n",
    "betas = np.linspace(0, 1, N)\n",
    "alphas = np.linspace(2.1, 3.0, N)\n",
    "\n",
    "\n",
    "\n",
    "amplitude = T.dscalar('amplitude')\n",
    "alpha = T.dscalar('alpha')\n",
    "beta = T.dscalar('beta')\n",
    "cf = forward_fold_log_parabola_symbolic(amplitude, alpha, beta, observation)\n",
    "\n",
    "zs = []\n",
    "a, b = np.meshgrid(alphas, betas)\n",
    "for al, be in tqdm(zip(a.ravel(), b.ravel())):\n",
    "    mu_sig = cf.eval({amplitude: 4.0, alpha: al, beta: be})\n",
    "    \n",
    "    p, _ = wstat_model_from_counts(mu_sig, observation, fit_range=fit_range)\n",
    "    zs.append(p)\n",
    "\n",
    "zs = np.array(zs)\n",
    "\n",
    "fig, ax1 = plt.subplots(1, 1, figsize=(6, 5.5))\n",
    "cf = ax1.contourf(a, b, zs.reshape(len(a), -1),  levels=24)\n",
    "ax1.set_xlabel('alpha')\n",
    "ax1.set_ylabel('beta')\n",
    "plt.colorbar(cf, ax=ax1)"
   ]
  },
  {
   "cell_type": "code",
   "execution_count": null,
   "metadata": {},
   "outputs": [],
   "source": []
  }
 ],
 "metadata": {
  "kernelspec": {
   "display_name": "Python 3",
   "language": "python",
   "name": "python3"
  },
  "language_info": {
   "codemirror_mode": {
    "name": "ipython",
    "version": 3
   },
   "file_extension": ".py",
   "mimetype": "text/x-python",
   "name": "python",
   "nbconvert_exporter": "python",
   "pygments_lexer": "ipython3",
   "version": "3.7.0"
  }
 },
 "nbformat": 4,
 "nbformat_minor": 2
}
