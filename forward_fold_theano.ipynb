{
 "cells": [
  {
   "cell_type": "code",
   "execution_count": 1,
   "metadata": {},
   "outputs": [],
   "source": [
    "from scipy.integrate import quad\n",
    "import theano\n",
    "import theano.tensor as T\n",
    "from theano.tests.unittest_tools import verify_grad\n",
    "\n",
    "import numpy as np\n",
    "import pymc3 as pm\n",
    "\n",
    "import matplotlib.pyplot as plt\n",
    "\n",
    "import astropy.units as u\n",
    "\n",
    "from gammapy.spectrum import CountsPredictor, CountsSpectrum\n",
    "\n",
    "from utils import load_spectrum_observations, plot_spectra, Log10Parabola, integrate_spectrum\n",
    "\n",
    "%matplotlib inline"
   ]
  },
  {
   "cell_type": "code",
   "execution_count": 2,
   "metadata": {},
   "outputs": [
    {
     "data": {
      "text/plain": [
       "array([2., 4.])"
      ]
     },
     "execution_count": 2,
     "metadata": {},
     "output_type": "execute_result"
    }
   ],
   "source": [
    "a = np.array([[1, 2],[3, 4]])\n",
    "a = theano.shared(a)\n",
    "\n",
    "b = T.vector('b')\n",
    "\n",
    "f = T.dot(b, a)\n",
    "\n",
    "f.eval({b: [1, 2]})\n",
    "T.grad(f[1], [b])[0].eval({b: [1, 2]})"
   ]
  },
  {
   "cell_type": "code",
   "execution_count": 3,
   "metadata": {},
   "outputs": [],
   "source": [
    "class Integrate(theano.Op):\n",
    "    def __init__(self, expr, var, lower, upper, *inputs):\n",
    "        super().__init__()\n",
    "        self._expr = expr\n",
    "        self._var = var\n",
    "        self._extra_vars = inputs\n",
    "        self.lower = lower\n",
    "        self.upper = upper\n",
    "        self._func = theano.function(\n",
    "            [var] + list(self._extra_vars),\n",
    "            self._expr,\n",
    "            on_unused_input='ignore'\n",
    "        )\n",
    "    \n",
    "    def make_node(self, *inputs):\n",
    "        assert len(self._extra_vars)  == len(inputs)\n",
    "        return theano.Apply(self, list(inputs), [T.dscalar().type()])\n",
    "    \n",
    "    def perform(self, node, inputs, out):\n",
    "        val = quad(self._func, self.lower, self.upper, args=tuple(inputs))[0]\n",
    "        out[0][0] = np.array(val)\n",
    "        \n",
    "    def grad(self, inputs, grads):\n",
    "        out, = grads\n",
    "        grads = T.grad(self._expr, self._extra_vars)\n",
    "        dargs = []\n",
    "        for grad in grads:\n",
    "            integrate = Integrate(grad, self._var, self.lower, self.upper, *self._extra_vars)\n",
    "            darg = out * integrate(*inputs)\n",
    "            dargs.append(darg)\n",
    "            \n",
    "        return dargs"
   ]
  },
  {
   "cell_type": "code",
   "execution_count": 4,
   "metadata": {
    "scrolled": false
   },
   "outputs": [
    {
     "name": "stdout",
     "output_type": "stream",
     "text": [
      "6.333333333333334\n",
      "4.0\n",
      "16.0\n"
     ]
    }
   ],
   "source": [
    "## Basic usage\n",
    "\n",
    "# We define the function we want to integrate\n",
    "x = T.dscalar('x')\n",
    "a = T.dscalar('a')\n",
    "\n",
    "func = a ** 2 + x**2\n",
    "integrate = Integrate(func, x, 1, 2, a)\n",
    "\n",
    "\n",
    "# Now, we define values for the integral\n",
    "a_ = T.dscalar('a_')\n",
    "\n",
    "# Note, that a_ != a\n",
    "val = integrate(a_)\n",
    "\n",
    "# Evaluate the integral and derivatives\n",
    "print(val.eval({a_: 2.}))\n",
    "print(T.grad(val, a_).eval({a_: 2.}))\n",
    "print(T.grad(val, a_).eval({a_: 8.}))\n",
    "verify_grad(integrate, [0.])\n",
    "verify_grad(integrate, [-2.])\n"
   ]
  },
  {
   "cell_type": "code",
   "execution_count": 5,
   "metadata": {},
   "outputs": [],
   "source": [
    "def forward_fold_gammapy(amplitude, alpha, beta, observation):\n",
    "    bin_mask = observation.on_vector.bins_in_safe_range\n",
    "    model = Log10Parabola(\n",
    "        amplitude=amplitude * 1e-11 * u.Unit('cm-2 s-1 TeV-1'),\n",
    "        reference=1 * u.Unit('TeV'),\n",
    "        alpha=alpha * u.Unit(''),\n",
    "        beta=beta * u.Unit(''),\n",
    "    )\n",
    "    \n",
    "    predictor = CountsPredictor(model=model, aeff=observation.aeff, edisp=observation.edisp, livetime=observation.livetime)\n",
    "    predictor.run()\n",
    "    counts = predictor.npred.data.data\n",
    "#     counts *= observation.on_vector.areascal\n",
    "    return counts.value[bin_mask]"
   ]
  },
  {
   "cell_type": "code",
   "execution_count": 6,
   "metadata": {},
   "outputs": [],
   "source": [
    "def forward_fold_log_parabola(amplitude, alpha, beta, observation, fit_range=None):\n",
    "\n",
    "    obs_bins = observation.on_vector.energy\n",
    "    aeff_bins = observation.aeff.energy\n",
    "    e_reco_bins = observation.edisp.e_reco\n",
    "    e_true_bins = observation.edisp.e_true\n",
    "     \n",
    "    if fit_range:\n",
    "        lo = obs_bins.lo.min()\n",
    "        hi = obs_bins.hi.max()\n",
    "        lo = max(fit_range[0], lo).to_value(u.TeV)\n",
    "        hi = min(fit_range[1], hi ).to_value(u.TeV)\n",
    "    else:\n",
    "        lo = obs_bins.lo.min().to_value(u.TeV)\n",
    "        hi = obs_bins.hi.max().to_value(u.TeV)\n",
    "\n",
    "    obs_mask = (obs_bins.lo.to_value(u.TeV) > lo ) & (obs_bins.hi.to_value(u.TeV) <= hi)\n",
    "    aeff_mask = (aeff_bins.lo.to_value(u.TeV) > lo ) & (aeff_bins.hi.to_value(u.TeV) <= hi)\n",
    "    e_reco_mask = (e_reco_bins.lo.to_value(u.TeV) > lo ) & (e_reco_bins.hi.to_value(u.TeV) <= hi)\n",
    "    e_true_mask = (e_true_bins.lo.to_value(u.TeV) > lo ) & (e_true_bins.hi.to_value(u.TeV) <= hi)\n",
    "    \n",
    "    aeff = observation.aeff.data.data.to_value(u.cm**2)[aeff_mask]\n",
    "    \n",
    "    lower =  e_true_bins.lo[e_true_mask].to_value(u.TeV)\n",
    "    upper = e_true_bins.hi[e_true_mask].to_value(u.TeV)\n",
    "\n",
    "    def log_par(e):\n",
    "        exponent =  -alpha - beta * np.log10(e)\n",
    "        return amplitude * 1e-11 * e ** (exponent) \n",
    "\n",
    "    counts = [quad(log_par, l, u)[0] for l, u in zip(lower, upper)]\n",
    "    \n",
    "    counts *= aeff\n",
    "    counts *= observation.livetime.to_value(u.s)\n",
    "    \n",
    "    edisp = observation.edisp.pdf_matrix[e_true_mask]\n",
    "    \n",
    "    return (counts @ edisp)[obs_mask]"
   ]
  },
  {
   "cell_type": "code",
   "execution_count": 7,
   "metadata": {},
   "outputs": [],
   "source": [
    "def forward_fold_log_parabola_symbolic(amplitude, alpha, beta, observation, fit_range=None):\n",
    "\n",
    "    obs_bins = observation.on_vector.energy\n",
    "    aeff_bins = observation.aeff.energy\n",
    "    e_reco_bins = observation.edisp.e_reco\n",
    "    e_true_bins = observation.edisp.e_true\n",
    "     \n",
    "    if fit_range:\n",
    "        lo = obs_bins.lo.min()\n",
    "        hi = obs_bins.hi.max()\n",
    "        lo = max(fit_range[0], lo).to_value(u.TeV)\n",
    "        hi = min(fit_range[1], hi ).to_value(u.TeV)\n",
    "    else:\n",
    "        lo = obs_bins.lo.min().to_value(u.TeV)\n",
    "        hi = obs_bins.hi.max().to_value(u.TeV)\n",
    "\n",
    "    obs_mask = (obs_bins.lo.to_value(u.TeV) > lo ) & (obs_bins.hi.to_value(u.TeV) <= hi)\n",
    "    aeff_mask = (aeff_bins.lo.to_value(u.TeV) > lo ) & (aeff_bins.hi.to_value(u.TeV) <= hi)\n",
    "    e_reco_mask = (e_reco_bins.lo.to_value(u.TeV) > lo ) & (e_reco_bins.hi.to_value(u.TeV) <= hi)\n",
    "    e_true_mask = (e_true_bins.lo.to_value(u.TeV) > lo ) & (e_true_bins.hi.to_value(u.TeV) <= hi)\n",
    "    \n",
    "   \n",
    "    lower =  e_true_bins.lo[e_true_mask].to_value(u.TeV)\n",
    "    upper = e_true_bins.hi[e_true_mask].to_value(u.TeV)\n",
    "\n",
    "    amplitude *= 1e-11\n",
    "    \n",
    "    energy = T.dscalar('energy')\n",
    "    amplitude_ = T.dscalar('amplitude_')\n",
    "    alpha_ = T.dscalar('alpha_')\n",
    "    beta_ = T.dscalar('beta_')\n",
    "\n",
    "    func = amplitude_ * energy **(-alpha_ - beta_ * T.log10(energy))\n",
    "    \n",
    "    counts = []\n",
    "    for a, b in zip(lower, upper):\n",
    "        c = Integrate(func, energy, a, b, amplitude_, alpha_, beta_)(amplitude, alpha, beta)\n",
    "        counts.append(c)\n",
    "\n",
    "    counts = T.stack(counts)\n",
    "    aeff = observation.aeff.data.data.to_value(u.cm**2).astype(np.float32)[aeff_mask]\n",
    "    aeff = T.constant(aeff)\n",
    "    \n",
    "\n",
    "    counts *= aeff\n",
    "    counts *= theano.shared(observation.livetime.to_value(u.s))\n",
    "#     return counts\n",
    "    edisp = observation.edisp.pdf_matrix[e_true_mask]\n",
    "    edisp = T.constant(edisp)\n",
    "    \n",
    "    return T.dot(counts, edisp)[observation.on_vector.bins_in_safe_range]"
   ]
  },
  {
   "cell_type": "code",
   "execution_count": 8,
   "metadata": {},
   "outputs": [],
   "source": [
    "obs_list, fit_range = load_spectrum_observations('fact')\n",
    "observation = obs_list[0]"
   ]
  },
  {
   "cell_type": "code",
   "execution_count": 9,
   "metadata": {
    "scrolled": false
   },
   "outputs": [
    {
     "name": "stderr",
     "output_type": "stream",
     "text": [
      "WARNING: AstropyDeprecationWarning: The truth value of a Quantity is ambiguous. In the future this will raise a ValueError. [astropy.units.quantity]\n"
     ]
    },
    {
     "data": {
      "image/png": "[encoded data removed]",
      "text/plain": [
       "<Figure size 864x432 with 1 Axes>"
      ]
     },
     "metadata": {
      "needs_background": "light"
     },
     "output_type": "display_data"
    }
   ],
   "source": [
    "plt.figure(figsize=(12, 6))\n",
    "\n",
    "counts = forward_fold_log_parabola(4, 2, 0.5, observation, fit_range=fit_range)\n",
    "plt.plot(counts, label=f'me, {counts.shape}', lw=2)\n",
    "\n",
    "amplitude = T.dscalar('amplitude')\n",
    "alpha = T.dscalar('alpha')\n",
    "beta = T.dscalar('beta')\n",
    "counts = forward_fold_log_parabola_symbolic(amplitude, alpha, beta, observation)\n",
    "counts = counts.eval({amplitude: 4.0, alpha: 2.0, beta: 0.5})\n",
    "plt.plot(counts, '+', label=f'symbolic, {counts.shape}')\n",
    "\n",
    "counts = forward_fold_gammapy(4, 2, 0.5, observation)\n",
    "plt.plot(counts, label=f'gammapy, {counts.shape}', ls=':', lw=2, )\n",
    "plt.legend()\n",
    "\n",
    "\n",
    "None"
   ]
  },
  {
   "cell_type": "code",
   "execution_count": 10,
   "metadata": {
    "scrolled": false
   },
   "outputs": [
    {
     "data": {
      "text/plain": [
       "(AdvancedSubtensor1.0, 1, array([33]))"
      ]
     },
     "execution_count": 10,
     "metadata": {},
     "output_type": "execute_result"
    }
   ],
   "source": [
    "amplitude = T.dscalar('amplitude')\n",
    "alpha = T.dscalar('alpha')\n",
    "beta = T.dscalar('beta')\n",
    "counts = forward_fold_log_parabola_symbolic(amplitude, alpha, beta, observation)\n",
    "counts, counts.ndim, counts.shape.eval({amplitude: 4.0, alpha: 2.5, beta: 0.5})"
   ]
  },
  {
   "cell_type": "code",
   "execution_count": 11,
   "metadata": {
    "scrolled": false
   },
   "outputs": [
    {
     "name": "stdout",
     "output_type": "stream",
     "text": [
      "4.995838321299719\n"
     ]
    },
    {
     "data": {
      "text/plain": [
       "(True, array(1.24895958), True, array(-7.78475167), True, array(-5.53193981))"
      ]
     },
     "execution_count": 11,
     "metadata": {},
     "output_type": "execute_result"
    }
   ],
   "source": [
    "g = T.grad(counts[20], [amplitude, alpha,  beta])\n",
    "\n",
    "print(counts[20].eval({amplitude: 4.0, alpha: 2.5, beta: 0.5}))\n",
    "d0 = g[0].eval({amplitude: 4.0, alpha: 2.5, beta: 0.5})\n",
    "d1 = g[1].eval({amplitude: 4.0, alpha: 2.5, beta: 0.5})\n",
    "d2 = g[2].eval({amplitude: 4.0, alpha: 2.5, beta: 0.5})\n",
    "\n",
    "d0 != 0, d0, d1 != 0, d1, d2 != 0, d2"
   ]
  },
  {
   "cell_type": "code",
   "execution_count": 12,
   "metadata": {},
   "outputs": [
    {
     "name": "stdout",
     "output_type": "stream",
     "text": [
      "33\n"
     ]
    },
    {
     "data": {
      "image/png": "[encoded data removed]",
      "text/plain": [
       "<Figure size 432x288 with 1 Axes>"
      ]
     },
     "metadata": {
      "needs_background": "light"
     },
     "output_type": "display_data"
    }
   ],
   "source": [
    "\n",
    "exposure_ratio = 0.2\n",
    "\n",
    "mask = observation.on_vector.bins_in_safe_range\n",
    "on_data = observation.on_vector.data.data[mask]\n",
    "off_data = observation.off_vector.data.data[mask]\n",
    "\n",
    "s = counts.eval({amplitude: 5.0, alpha: 2., beta: 0.2})\n",
    "\n",
    "plt.plot(s, '.', label='s', )\n",
    "plt.plot(on_data, '.', label='on', color='gray')\n",
    "plt.plot(off_data * exposure_ratio, '.', label='off', color='silver')\n",
    "# plt.plot(true_mu_s, '.',  label='true signal', color='crimson', ls='--', alpha=0.3)\n",
    "# plt.plot(true_mu_s + exposure_ratio * true_mu_b, '.',  label='true s + b', color='orange', ls='--', alpha=0.3)\n",
    "plt.legend()\n",
    "print(len(on_data))"
   ]
  },
  {
   "cell_type": "code",
   "execution_count": 13,
   "metadata": {},
   "outputs": [],
   "source": [
    "N_entries = len(on_data)\n",
    "exposure_ratio = 0.2\n",
    "\n",
    "model = pm.Model(theano_config={'compute_test_value': 'ignore'})\n",
    "with model:\n",
    "    \n",
    "    amplitude = pm.HalfFlat('amplitude')\n",
    "    alpha = pm.HalfFlat('alpha')\n",
    "    beta = pm.HalfFlat('beta')\n",
    "    \n",
    "    mu_s = forward_fold_log_parabola_symbolic(amplitude, alpha, beta, observation)\n",
    "    \n",
    "    mu_b = pm.HalfFlat('mu_b', shape=len(off_data))\n",
    "\n",
    "    b = pm.Poisson('background', mu=mu_b, observed=off_data)    \n",
    "    s = pm.Poisson('signal', mu=mu_s + exposure_ratio*b, observed=on_data)"
   ]
  },
  {
   "cell_type": "code",
   "execution_count": 14,
   "metadata": {},
   "outputs": [
    {
     "name": "stderr",
     "output_type": "stream",
     "text": [
      "Auto-assigning NUTS sampler...\n",
      "Initializing NUTS using jitter+adapt_diag...\n",
      "Multiprocess sampling (4 chains in 4 jobs)\n",
      "NUTS: [mu_b, beta, alpha, amplitude]\n",
      "Sampling 4 chains:   1%|▏         | 77/6000 [02:53<9:15:44,  5.63s/draws] \n"
     ]
    },
    {
     "ename": "ValueError",
     "evalue": "Not enough samples to build a trace.",
     "output_type": "error",
     "traceback": [
      "\u001b[0;31m---------------------------------------------------------------------------\u001b[0m",
      "\u001b[0;31mKeyboardInterrupt\u001b[0m                         Traceback (most recent call last)",
      "\u001b[0;32m/home/kbruegge/envs/gammapy/lib/python3.7/site-packages/pymc3/sampling.py\u001b[0m in \u001b[0;36m_mp_sample\u001b[0;34m(draws, tune, step, chains, cores, chain, random_seed, start, progressbar, trace, model, use_mmap, **kwargs)\u001b[0m\n\u001b[1;32m    998\u001b[0m             \u001b[0;32mwith\u001b[0m \u001b[0msampler\u001b[0m\u001b[0;34m:\u001b[0m\u001b[0;34m\u001b[0m\u001b[0m\n\u001b[0;32m--> 999\u001b[0;31m                 \u001b[0;32mfor\u001b[0m \u001b[0mdraw\u001b[0m \u001b[0;32min\u001b[0m \u001b[0msampler\u001b[0m\u001b[0;34m:\u001b[0m\u001b[0;34m\u001b[0m\u001b[0m\n\u001b[0m\u001b[1;32m   1000\u001b[0m                     \u001b[0mtrace\u001b[0m \u001b[0;34m=\u001b[0m \u001b[0mtraces\u001b[0m\u001b[0;34m[\u001b[0m\u001b[0mdraw\u001b[0m\u001b[0;34m.\u001b[0m\u001b[0mchain\u001b[0m \u001b[0;34m-\u001b[0m \u001b[0mchain\u001b[0m\u001b[0;34m]\u001b[0m\u001b[0;34m\u001b[0m\u001b[0m\n",
      "\u001b[0;32m/home/kbruegge/envs/gammapy/lib/python3.7/site-packages/pymc3/parallel_sampling.py\u001b[0m in \u001b[0;36m__iter__\u001b[0;34m(self)\u001b[0m\n\u001b[1;32m    304\u001b[0m         \u001b[0;32mwhile\u001b[0m \u001b[0mself\u001b[0m\u001b[0;34m.\u001b[0m\u001b[0m_active\u001b[0m\u001b[0;34m:\u001b[0m\u001b[0;34m\u001b[0m\u001b[0m\n\u001b[0;32m--> 305\u001b[0;31m             \u001b[0mdraw\u001b[0m \u001b[0;34m=\u001b[0m \u001b[0mProcessAdapter\u001b[0m\u001b[0;34m.\u001b[0m\u001b[0mrecv_draw\u001b[0m\u001b[0;34m(\u001b[0m\u001b[0mself\u001b[0m\u001b[0;34m.\u001b[0m\u001b[0m_active\u001b[0m\u001b[0;34m)\u001b[0m\u001b[0;34m\u001b[0m\u001b[0m\n\u001b[0m\u001b[1;32m    306\u001b[0m             \u001b[0mproc\u001b[0m\u001b[0;34m,\u001b[0m \u001b[0mis_last\u001b[0m\u001b[0;34m,\u001b[0m \u001b[0mdraw\u001b[0m\u001b[0;34m,\u001b[0m \u001b[0mtuning\u001b[0m\u001b[0;34m,\u001b[0m \u001b[0mstats\u001b[0m\u001b[0;34m,\u001b[0m \u001b[0mwarns\u001b[0m \u001b[0;34m=\u001b[0m \u001b[0mdraw\u001b[0m\u001b[0;34m\u001b[0m\u001b[0m\n",
      "\u001b[0;32m/home/kbruegge/envs/gammapy/lib/python3.7/site-packages/pymc3/parallel_sampling.py\u001b[0m in \u001b[0;36mrecv_draw\u001b[0;34m(processes, timeout)\u001b[0m\n\u001b[1;32m    213\u001b[0m         \u001b[0mpipes\u001b[0m \u001b[0;34m=\u001b[0m \u001b[0;34m[\u001b[0m\u001b[0mproc\u001b[0m\u001b[0;34m.\u001b[0m\u001b[0m_msg_pipe\u001b[0m \u001b[0;32mfor\u001b[0m \u001b[0mproc\u001b[0m \u001b[0;32min\u001b[0m \u001b[0mprocesses\u001b[0m\u001b[0;34m]\u001b[0m\u001b[0;34m\u001b[0m\u001b[0m\n\u001b[0;32m--> 214\u001b[0;31m         \u001b[0mready\u001b[0m \u001b[0;34m=\u001b[0m \u001b[0mmultiprocessing\u001b[0m\u001b[0;34m.\u001b[0m\u001b[0mconnection\u001b[0m\u001b[0;34m.\u001b[0m\u001b[0mwait\u001b[0m\u001b[0;34m(\u001b[0m\u001b[0mpipes\u001b[0m\u001b[0;34m)\u001b[0m\u001b[0;34m\u001b[0m\u001b[0m\n\u001b[0m\u001b[1;32m    215\u001b[0m         \u001b[0;32mif\u001b[0m \u001b[0;32mnot\u001b[0m \u001b[0mready\u001b[0m\u001b[0;34m:\u001b[0m\u001b[0;34m\u001b[0m\u001b[0m\n",
      "\u001b[0;32m/home/kbruegge/envs/gammapy/lib/python3.7/multiprocessing/connection.py\u001b[0m in \u001b[0;36mwait\u001b[0;34m(object_list, timeout)\u001b[0m\n\u001b[1;32m    919\u001b[0m             \u001b[0;32mwhile\u001b[0m \u001b[0;32mTrue\u001b[0m\u001b[0;34m:\u001b[0m\u001b[0;34m\u001b[0m\u001b[0m\n\u001b[0;32m--> 920\u001b[0;31m                 \u001b[0mready\u001b[0m \u001b[0;34m=\u001b[0m \u001b[0mselector\u001b[0m\u001b[0;34m.\u001b[0m\u001b[0mselect\u001b[0m\u001b[0;34m(\u001b[0m\u001b[0mtimeout\u001b[0m\u001b[0;34m)\u001b[0m\u001b[0;34m\u001b[0m\u001b[0m\n\u001b[0m\u001b[1;32m    921\u001b[0m                 \u001b[0;32mif\u001b[0m \u001b[0mready\u001b[0m\u001b[0;34m:\u001b[0m\u001b[0;34m\u001b[0m\u001b[0m\n",
      "\u001b[0;32m/home/kbruegge/envs/gammapy/lib/python3.7/selectors.py\u001b[0m in \u001b[0;36mselect\u001b[0;34m(self, timeout)\u001b[0m\n\u001b[1;32m    414\u001b[0m         \u001b[0;32mtry\u001b[0m\u001b[0;34m:\u001b[0m\u001b[0;34m\u001b[0m\u001b[0m\n\u001b[0;32m--> 415\u001b[0;31m             \u001b[0mfd_event_list\u001b[0m \u001b[0;34m=\u001b[0m \u001b[0mself\u001b[0m\u001b[0;34m.\u001b[0m\u001b[0m_selector\u001b[0m\u001b[0;34m.\u001b[0m\u001b[0mpoll\u001b[0m\u001b[0;34m(\u001b[0m\u001b[0mtimeout\u001b[0m\u001b[0;34m)\u001b[0m\u001b[0;34m\u001b[0m\u001b[0m\n\u001b[0m\u001b[1;32m    416\u001b[0m         \u001b[0;32mexcept\u001b[0m \u001b[0mInterruptedError\u001b[0m\u001b[0;34m:\u001b[0m\u001b[0;34m\u001b[0m\u001b[0m\n",
      "\u001b[0;31mKeyboardInterrupt\u001b[0m: ",
      "\nDuring handling of the above exception, another exception occurred:\n",
      "\u001b[0;31mValueError\u001b[0m                                Traceback (most recent call last)",
      "\u001b[0;32m<ipython-input-14-bf72a33abcc2>\u001b[0m in \u001b[0;36m<module>\u001b[0;34m\u001b[0m\n\u001b[1;32m      3\u001b[0m \u001b[0;31m#     step = pm.Metropolis()\u001b[0m\u001b[0;34m\u001b[0m\u001b[0;34m\u001b[0m\u001b[0m\n\u001b[1;32m      4\u001b[0m \u001b[0;31m#     trace = pm.sample(100000, step=step, start=map_estimate)\u001b[0m\u001b[0;34m\u001b[0m\u001b[0;34m\u001b[0m\u001b[0m\n\u001b[0;32m----> 5\u001b[0;31m     \u001b[0mtrace\u001b[0m \u001b[0;34m=\u001b[0m \u001b[0mpm\u001b[0m\u001b[0;34m.\u001b[0m\u001b[0msample\u001b[0m\u001b[0;34m(\u001b[0m\u001b[0;36m1000\u001b[0m\u001b[0;34m)\u001b[0m\u001b[0;34m\u001b[0m\u001b[0m\n\u001b[0m\u001b[1;32m      6\u001b[0m     \u001b[0mpm\u001b[0m\u001b[0;34m.\u001b[0m\u001b[0mtraceplot\u001b[0m\u001b[0;34m(\u001b[0m\u001b[0mtrace\u001b[0m\u001b[0;34m)\u001b[0m\u001b[0;34m\u001b[0m\u001b[0m\n",
      "\u001b[0;32m/home/kbruegge/envs/gammapy/lib/python3.7/site-packages/pymc3/sampling.py\u001b[0m in \u001b[0;36msample\u001b[0;34m(draws, step, init, n_init, start, trace, chain_idx, chains, cores, tune, nuts_kwargs, step_kwargs, progressbar, model, random_seed, live_plot, discard_tuned_samples, live_plot_kwargs, compute_convergence_checks, use_mmap, **kwargs)\u001b[0m\n\u001b[1;32m    447\u001b[0m             \u001b[0m_print_step_hierarchy\u001b[0m\u001b[0;34m(\u001b[0m\u001b[0mstep\u001b[0m\u001b[0;34m)\u001b[0m\u001b[0;34m\u001b[0m\u001b[0m\n\u001b[1;32m    448\u001b[0m             \u001b[0;32mtry\u001b[0m\u001b[0;34m:\u001b[0m\u001b[0;34m\u001b[0m\u001b[0m\n\u001b[0;32m--> 449\u001b[0;31m                 \u001b[0mtrace\u001b[0m \u001b[0;34m=\u001b[0m \u001b[0m_mp_sample\u001b[0m\u001b[0;34m(\u001b[0m\u001b[0;34m**\u001b[0m\u001b[0msample_args\u001b[0m\u001b[0;34m)\u001b[0m\u001b[0;34m\u001b[0m\u001b[0m\n\u001b[0m\u001b[1;32m    450\u001b[0m             \u001b[0;32mexcept\u001b[0m \u001b[0mpickle\u001b[0m\u001b[0;34m.\u001b[0m\u001b[0mPickleError\u001b[0m\u001b[0;34m:\u001b[0m\u001b[0;34m\u001b[0m\u001b[0m\n\u001b[1;32m    451\u001b[0m                 \u001b[0m_log\u001b[0m\u001b[0;34m.\u001b[0m\u001b[0mwarning\u001b[0m\u001b[0;34m(\u001b[0m\u001b[0;34m\"Could not pickle model, sampling singlethreaded.\"\u001b[0m\u001b[0;34m)\u001b[0m\u001b[0;34m\u001b[0m\u001b[0m\n",
      "\u001b[0;32m/home/kbruegge/envs/gammapy/lib/python3.7/site-packages/pymc3/sampling.py\u001b[0m in \u001b[0;36m_mp_sample\u001b[0;34m(draws, tune, step, chains, cores, chain, random_seed, start, progressbar, trace, model, use_mmap, **kwargs)\u001b[0m\n\u001b[1;32m   1009\u001b[0m             \u001b[0;32mreturn\u001b[0m \u001b[0mMultiTrace\u001b[0m\u001b[0;34m(\u001b[0m\u001b[0mtraces\u001b[0m\u001b[0;34m)\u001b[0m\u001b[0;34m\u001b[0m\u001b[0m\n\u001b[1;32m   1010\u001b[0m         \u001b[0;32mexcept\u001b[0m \u001b[0mKeyboardInterrupt\u001b[0m\u001b[0;34m:\u001b[0m\u001b[0;34m\u001b[0m\u001b[0m\n\u001b[0;32m-> 1011\u001b[0;31m             \u001b[0mtraces\u001b[0m\u001b[0;34m,\u001b[0m \u001b[0mlength\u001b[0m \u001b[0;34m=\u001b[0m \u001b[0m_choose_chains\u001b[0m\u001b[0;34m(\u001b[0m\u001b[0mtraces\u001b[0m\u001b[0;34m,\u001b[0m \u001b[0mtune\u001b[0m\u001b[0;34m)\u001b[0m\u001b[0;34m\u001b[0m\u001b[0m\n\u001b[0m\u001b[1;32m   1012\u001b[0m             \u001b[0;32mreturn\u001b[0m \u001b[0mMultiTrace\u001b[0m\u001b[0;34m(\u001b[0m\u001b[0mtraces\u001b[0m\u001b[0;34m)\u001b[0m\u001b[0;34m[\u001b[0m\u001b[0;34m:\u001b[0m\u001b[0mlength\u001b[0m\u001b[0;34m]\u001b[0m\u001b[0;34m\u001b[0m\u001b[0m\n\u001b[1;32m   1013\u001b[0m         \u001b[0;32mfinally\u001b[0m\u001b[0;34m:\u001b[0m\u001b[0;34m\u001b[0m\u001b[0m\n",
      "\u001b[0;32m/home/kbruegge/envs/gammapy/lib/python3.7/site-packages/pymc3/sampling.py\u001b[0m in \u001b[0;36m_choose_chains\u001b[0;34m(traces, tune)\u001b[0m\n\u001b[1;32m   1042\u001b[0m     \u001b[0mlengths\u001b[0m \u001b[0;34m=\u001b[0m \u001b[0;34m[\u001b[0m\u001b[0mmax\u001b[0m\u001b[0;34m(\u001b[0m\u001b[0;36m0\u001b[0m\u001b[0;34m,\u001b[0m \u001b[0mlen\u001b[0m\u001b[0;34m(\u001b[0m\u001b[0mtrace\u001b[0m\u001b[0;34m)\u001b[0m \u001b[0;34m-\u001b[0m \u001b[0mtune\u001b[0m\u001b[0;34m)\u001b[0m \u001b[0;32mfor\u001b[0m \u001b[0mtrace\u001b[0m \u001b[0;32min\u001b[0m \u001b[0mtraces\u001b[0m\u001b[0;34m]\u001b[0m\u001b[0;34m\u001b[0m\u001b[0m\n\u001b[1;32m   1043\u001b[0m     \u001b[0;32mif\u001b[0m \u001b[0;32mnot\u001b[0m \u001b[0msum\u001b[0m\u001b[0;34m(\u001b[0m\u001b[0mlengths\u001b[0m\u001b[0;34m)\u001b[0m\u001b[0;34m:\u001b[0m\u001b[0;34m\u001b[0m\u001b[0m\n\u001b[0;32m-> 1044\u001b[0;31m         \u001b[0;32mraise\u001b[0m \u001b[0mValueError\u001b[0m\u001b[0;34m(\u001b[0m\u001b[0;34m'Not enough samples to build a trace.'\u001b[0m\u001b[0;34m)\u001b[0m\u001b[0;34m\u001b[0m\u001b[0m\n\u001b[0m\u001b[1;32m   1045\u001b[0m \u001b[0;34m\u001b[0m\u001b[0m\n\u001b[1;32m   1046\u001b[0m     \u001b[0midxs\u001b[0m \u001b[0;34m=\u001b[0m \u001b[0mnp\u001b[0m\u001b[0;34m.\u001b[0m\u001b[0margsort\u001b[0m\u001b[0;34m(\u001b[0m\u001b[0mlengths\u001b[0m\u001b[0;34m)\u001b[0m\u001b[0;34m[\u001b[0m\u001b[0;34m:\u001b[0m\u001b[0;34m:\u001b[0m\u001b[0;34m-\u001b[0m\u001b[0;36m1\u001b[0m\u001b[0;34m]\u001b[0m\u001b[0;34m\u001b[0m\u001b[0m\n",
      "\u001b[0;31mValueError\u001b[0m: Not enough samples to build a trace."
     ]
    }
   ],
   "source": [
    "# map_estimate = pm.find_MAP(model=model)\n",
    "with model:\n",
    "#     step = pm.Metropolis()\n",
    "#     trace = pm.sample(100000, step=step, start=map_estimate)\n",
    "    trace = pm.sample(1000)\n",
    "    pm.traceplot(trace)"
   ]
  },
  {
   "cell_type": "code",
   "execution_count": null,
   "metadata": {},
   "outputs": [],
   "source": []
  }
 ],
 "metadata": {
  "kernelspec": {
   "display_name": "Python 3",
   "language": "python",
   "name": "python3"
  },
  "language_info": {
   "codemirror_mode": {
    "name": "ipython",
    "version": 3
   },
   "file_extension": ".py",
   "mimetype": "text/x-python",
   "name": "python",
   "nbconvert_exporter": "python",
   "pygments_lexer": "ipython3",
   "version": "3.7.0"
  }
 },
 "nbformat": 4,
 "nbformat_minor": 2
}
